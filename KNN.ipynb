{
  "cells": [
    {
      "cell_type": "markdown",
      "metadata": {
        "id": "view-in-github",
        "colab_type": "text"
      },
      "source": [
        "<a href=\"https://colab.research.google.com/github/divyansh351/ML-Bootcamp-WOC/blob/main/KNN.ipynb\" target=\"_parent\"><img src=\"https://colab.research.google.com/assets/colab-badge.svg\" alt=\"Open In Colab\"/></a>"
      ]
    },
    {
      "cell_type": "markdown",
      "metadata": {
        "id": "f-UqQS0Zg8WA"
      },
      "source": [
        "#**KNN**\n"
      ]
    },
    {
      "cell_type": "markdown",
      "source": [
        "### **Importing Necessary libraries and dataset**"
      ],
      "metadata": {
        "id": "QZveoNUwMxBA"
      }
    },
    {
      "cell_type": "code",
      "execution_count": null,
      "metadata": {
        "id": "ZkqmepFbg8WD"
      },
      "outputs": [],
      "source": [
        "import numpy as np\n",
        "import pandas as pd\n",
        "from matplotlib import pyplot as plt"
      ]
    },
    {
      "cell_type": "code",
      "execution_count": null,
      "metadata": {
        "colab": {
          "base_uri": "https://localhost:8080/"
        },
        "id": "rRkRClkNg8WE",
        "outputId": "103a893c-a21f-475d-e3cd-4630eade9ca0"
      },
      "outputs": [
        {
          "output_type": "stream",
          "name": "stdout",
          "text": [
            "Drive already mounted at /content/drive; to attempt to forcibly remount, call drive.mount(\"/content/drive\", force_remount=True).\n",
            "/content/drive/MyDrive/cyberlabs/emnist_data2\n"
          ]
        }
      ],
      "source": [
        "from google.colab import drive\n",
        "drive.mount('/content/drive')\n",
        "%cd /content/drive/MyDrive/cyberlabs/emnist_data2\n",
        "train_path = '/content/drive/MyDrive/cyberlabs/emnist_data2/emnist-letters-train.csv'\n",
        "test_path = '/content/drive/MyDrive/cyberlabs/emnist_data2/emnist-letters-test.csv'\n",
        "data_train = pd.read_csv(train_path, header=None)\n",
        "data_test = pd.read_csv(test_path, header=None)"
      ]
    },
    {
      "cell_type": "markdown",
      "source": [
        "### **Pre-Processing the test and train dataset**"
      ],
      "metadata": {
        "id": "1qLsBW9MNEb2"
      }
    },
    {
      "cell_type": "code",
      "execution_count": null,
      "metadata": {
        "id": "KYhQanWeg8WF"
      },
      "outputs": [],
      "source": [
        "data_test=np.array(data_test)\n",
        "m, n = data_test.shape\n",
        "data_test = data_test[0:m].T\n",
        "Y_test = data_test[0]\n",
        "X_test = data_test[1:n]\n",
        "X_testi = X_test \n",
        "X_test=X_testi.T\n",
        "\n",
        "data_train=np.array(data_train)\n",
        "p,q=data_train.shape\n",
        "data_train = data_train[0:p].T\n",
        "Y_train = data_train[0]  \n",
        "X_traini = data_train[1:q]\n",
        "X_traini = X_traini     \n",
        "X_train=X_traini.T\n",
        "a,b=X_train.shape"
      ]
    },
    {
      "cell_type": "markdown",
      "source": [
        "### **Running the KNN algorithm**"
      ],
      "metadata": {
        "id": "Ceqzh3apNQlY"
      }
    },
    {
      "cell_type": "code",
      "execution_count": null,
      "metadata": {
        "id": "OvWgXiSgg8WF"
      },
      "outputs": [],
      "source": [
        "def euclidean_dist(x1,x2):\n",
        "    return np.sqrt(np.sum((x1-x2)**2))\n",
        "def KNN(X,Y,x,k=10):\n",
        "    m=X.shape[0]\n",
        "    val=[]\n",
        "    for i in range(m):\n",
        "        x_i=X[i]\n",
        "        dist=euclidean_dist(x,x_i)\n",
        "        val.append((dist,Y[i]))\n",
        "    val=sorted(val,key = lambda x:x[0])[:k]\n",
        "    val=np.asarray(val)\n",
        "    new_vals=np.unique(val[:,1],return_counts=True)\n",
        "    index=new_vals[1].argmax()\n",
        "    output=new_vals[0][index]\n",
        "    return output\n",
        "def plotimg(n):\n",
        "    print(KNN(X_train,Y_train,X_test[n]))\n",
        "    print(\"label :\",Y_test[n])\n",
        "   "
      ]
    },
    {
      "cell_type": "code",
      "execution_count": null,
      "metadata": {
        "colab": {
          "base_uri": "https://localhost:8080/"
        },
        "id": "sj-VbotNg8WG",
        "outputId": "fd412712-1383-41ce-f7ac-96b95c2bdd4c"
      },
      "outputs": [
        {
          "output_type": "execute_result",
          "data": {
            "text/plain": [
              "0.8598726114649682"
            ]
          },
          "metadata": {},
          "execution_count": 7
        }
      ],
      "source": [
        "def Y_pred(X,Y,x):\n",
        "    Y_out=[]\n",
        "    for i in range(n):\n",
        "            Y_pred=KNN(X,Y,x[i])\n",
        "            Y_out.append(Y_pred)\n",
        "    return Y_out\n",
        "Y_pre=Y_pred(X_train,Y_train,X_test)\n",
        "def accuracy(Y):\n",
        "    predictions=Y_pre\n",
        "    count=0\n",
        "    for i in range(n): \n",
        "        if(predictions[i]==Y[i]):\n",
        "            count+=1\n",
        "    return count/n\n",
        "Y_pred(X_train, Y_train, X_test)\n",
        "accuracy(Y_test)"
      ]
    },
    {
      "cell_type": "code",
      "execution_count": null,
      "metadata": {
        "colab": {
          "base_uri": "https://localhost:8080/"
        },
        "id": "UNscnAQcg8WG",
        "outputId": "593b5b31-4e29-4021-b639-8e91f543297d"
      },
      "outputs": [
        {
          "output_type": "stream",
          "name": "stdout",
          "text": [
            "17.0\n",
            "label : 17\n"
          ]
        }
      ],
      "source": [
        "plotimg(13000)"
      ]
    },
    {
      "cell_type": "markdown",
      "source": [
        "### **Visualizing data**"
      ],
      "metadata": {
        "id": "t7dIQylyNYtX"
      }
    },
    {
      "cell_type": "code",
      "source": [
        "def displayData(X):     \n",
        "  print(X.shape)\n",
        "  m, n = X.shape\n",
        "  nbImagesPerRow = int(np.sqrt(m))\n",
        "  columnsCount = (28 + 2) * nbImagesPerRow\n",
        "  result = np.empty((0, columnsCount))\n",
        "  row = 0\n",
        "  while row < m:\n",
        "    new_row = np.empty((28, 0))\n",
        "    for col in range(nbImagesPerRow):\n",
        "      new_row = np.c_[new_row, X[row].reshape(28, 28).T]\n",
        "      new_row = np.c_[new_row, np.zeros((28,2))]\n",
        "      row = row + 1  \n",
        "    result = np.r_[result, new_row]\n",
        "    result = np.r_[result, np.zeros((1, columnsCount))]\n",
        "    \n",
        "  plt.imshow(result, cmap='gray', interpolation='nearest') "
      ],
      "metadata": {
        "id": "upniBtNFpIbl"
      },
      "execution_count": null,
      "outputs": []
    },
    {
      "cell_type": "code",
      "source": [
        "print('Visualizing Data ...')\n",
        "rand_indices = np.random.choice(m, 25)\n",
        "displayData(X_train[rand_indices])\n",
        "plt.show(block=False)"
      ],
      "metadata": {
        "colab": {
          "base_uri": "https://localhost:8080/",
          "height": 304
        },
        "id": "fA7SsUKrpLK4",
        "outputId": "5b275dd1-108d-4573-e405-3a38a36aee40"
      },
      "execution_count": null,
      "outputs": [
        {
          "output_type": "stream",
          "name": "stdout",
          "text": [
            "Visualizing Data ...\n",
            "(25, 784)\n"
          ]
        },
        {
          "output_type": "display_data",
          "data": {
            "text/plain": [
              "<Figure size 432x288 with 1 Axes>"
            ],
            "image/png": "[encoded data removed]"
          },
          "metadata": {
            "needs_background": "light"
          }
        }
      ]
    }
  ],
  "metadata": {
    "kernelspec": {
      "display_name": "Python 3 (ipykernel)",
      "language": "python",
      "name": "python3"
    },
    "language_info": {
      "codemirror_mode": {
        "name": "ipython",
        "version": 3
      },
      "file_extension": ".py",
      "mimetype": "text/x-python",
      "name": "python",
      "nbconvert_exporter": "python",
      "pygments_lexer": "ipython3",
      "version": "3.9.7"
    },
    "colab": {
      "name": "KNN.ipynb",
      "provenance": [],
      "include_colab_link": true
    }
  },
  "nbformat": 4,
  "nbformat_minor": 0
}