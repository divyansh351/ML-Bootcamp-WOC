{
  "nbformat": 4,
  "nbformat_minor": 0,
  "metadata": {
    "colab": {
      "name": "polyRegNormalModelCubic.ipynb",
      "provenance": [],
      "authorship_tag": "ABX9TyNv/2/leF1bnTZItmM/lHDg",
      "include_colab_link": true
    },
    "kernelspec": {
      "name": "python3",
      "display_name": "Python 3"
    },
    "language_info": {
      "name": "python"
    }
  },
  "cells": [
    {
      "cell_type": "markdown",
      "metadata": {
        "id": "view-in-github",
        "colab_type": "text"
      },
      "source": [
        "<a href=\"https://colab.research.google.com/github/divyansh351/ML-Bootcamp-WOC/blob/main/polyRegNormalModelCubic.ipynb\" target=\"_parent\"><img src=\"https://colab.research.google.com/assets/colab-badge.svg\" alt=\"Open In Colab\"/></a>"
      ]
    },
    {
      "cell_type": "markdown",
      "source": [
        "# ***Polynomial Regression Normal Model with Cubic features***"
      ],
      "metadata": {
        "id": "KMfLrRUVMEP9"
      }
    },
    {
      "cell_type": "markdown",
      "source": [
        "### ***Importing necessary libraries and dataset*** "
      ],
      "metadata": {
        "id": "iD4mEYdgMVeJ"
      }
    },
    {
      "cell_type": "code",
      "execution_count": 1,
      "metadata": {
        "colab": {
          "base_uri": "https://localhost:8080/"
        },
        "id": "NxNRAKWbL1FP",
        "outputId": "002cea38-0574-4122-a338-b46476ce6af4"
      },
      "outputs": [
        {
          "output_type": "stream",
          "name": "stdout",
          "text": [
            "Mounted at /content/drive\n"
          ]
        }
      ],
      "source": [
        "import numpy as np\n",
        "import pandas as pd\n",
        "import math\n",
        "import matplotlib.pyplot as plt\n",
        "from google.colab import drive\n",
        "drive.mount('/content/drive')"
      ]
    },
    {
      "cell_type": "code",
      "source": [
        "%cd /content/drive/MyDrive/cyberlabs/polynomial_data\n",
        "train_path = '/content/drive/MyDrive/cyberlabs/polynomial_data/Polynomial_train.csv'\n",
        "test_path = '/content/drive/MyDrive/cyberlabs/polynomial_data/Polynomial_test.csv'\n",
        "df_train = pd.read_csv(train_path)\n",
        "df_test = pd.read_csv(test_path)"
      ],
      "metadata": {
        "colab": {
          "base_uri": "https://localhost:8080/"
        },
        "id": "NPg2_WzeMPjK",
        "outputId": "9604a697-e458-44ef-a32c-15134df7ea98"
      },
      "execution_count": 2,
      "outputs": [
        {
          "output_type": "stream",
          "name": "stdout",
          "text": [
            "/content/drive/MyDrive/cyberlabs/polynomial_data\n"
          ]
        }
      ]
    },
    {
      "cell_type": "markdown",
      "source": [
        "### ***Preprocessing the dataset and adding cubic features***"
      ],
      "metadata": {
        "id": "aa0qBKh3MXVS"
      }
    },
    {
      "cell_type": "code",
      "source": [
        "X_train = df_train.drop(df_train.columns[[0, 4]], axis=1)\n",
        "X_test = df_test.drop(df_test.columns[[0, 4]], axis=1)"
      ],
      "metadata": {
        "id": "kq7rpNwnMXyx"
      },
      "execution_count": 3,
      "outputs": []
    },
    {
      "cell_type": "code",
      "source": [
        "trainData=df_train.values\n",
        "Y_train = trainData[:, -1].reshape(trainData.shape[0], 1)\n",
        "testData=df_test.values\n",
        "Y_test = testData[:, -1].reshape(testData.shape[0], 1)"
      ],
      "metadata": {
        "id": "RRdauI6eMnO5"
      },
      "execution_count": 4,
      "outputs": []
    },
    {
      "cell_type": "code",
      "source": [
        "X_train['X2']=X_train['X']*X_train['X']\n",
        "X_train['Y2']=X_train['Y']*X_train['Y']\n",
        "X_train['Z2']=X_train['Z']*X_train['Z']\n",
        "X_train['XY']=X_train['X']*X_train['Y']\n",
        "X_train['YZ']=X_train['X']*X_train['X']\n",
        "X_train['ZX']=X_train['Z']*X_train['X']\n",
        "X_train['X2Y']=X_train['X2']*X_train['Y']\n",
        "X_train['XY2']=X_train['X']*X_train['Y2']\n",
        "X_train['X2Z']=X_train['X2']*X_train['Z']\n",
        "X_train['XZ2']=X_train['X']*X_train['Z2']\n",
        "X_train['Y2Z']=X_train['Y2']*X_train['Z']\n",
        "X_train['YZ2']=X_train['Y']*X_train['Z2']\n",
        "X_train['XYZ']=X_train['XY']*X_train['Z']\n",
        "X_train['X3']=X_train['X']*X_train['X2']\n",
        "X_train['Y3']=X_train['Y']*X_train['Y2']\n",
        "X_train['Z3']=X_train['Z']*X_train['Z2']"
      ],
      "metadata": {
        "id": "0b4rhj9DMn9b"
      },
      "execution_count": 5,
      "outputs": []
    },
    {
      "cell_type": "code",
      "source": [
        "X_test['X2']=X_test['X']*X_test['X']\n",
        "X_test['Y2']=X_test['Y']*X_test['Y']\n",
        "X_test['Z2']=X_test['Z']*X_test['Z']\n",
        "X_test['XY']=X_test['X']*X_test['Y']\n",
        "X_test['YZ']=X_test['X']*X_test['X']\n",
        "X_test['ZX']=X_test['Z']*X_test['X']\n",
        "X_test['X2Y']=X_test['X2']*X_test['Y']\n",
        "X_test['XY2']=X_test['X']*X_test['Y2']\n",
        "X_test['X2Z']=X_test['X2']*X_test['Z']\n",
        "X_test['XZ2']=X_test['X']*X_test['Z2']\n",
        "X_test['Y2Z']=X_test['Y2']*X_test['Z']\n",
        "X_test['YZ2']=X_test['Y']*X_test['Z2']\n",
        "X_test['XYZ']=X_test['XY']*X_test['Z']\n",
        "X_test['X3']=X_test['X']*X_test['X2']\n",
        "X_test['Y3']=X_test['Y']*X_test['Y2']\n",
        "X_test['Z3']=X_test['Z']*X_test['Z2']"
      ],
      "metadata": {
        "id": "68-4cNi3Mqxs"
      },
      "execution_count": 6,
      "outputs": []
    },
    {
      "cell_type": "code",
      "source": [
        "X_train = np.vstack((np.ones((X_train.shape[0], )), X_train.T)).T\n",
        "X_test = np.vstack((np.ones((X_test.shape[0], )), X_test.T)).T"
      ],
      "metadata": {
        "id": "cPLzPMxOO6gC"
      },
      "execution_count": 7,
      "outputs": []
    },
    {
      "cell_type": "markdown",
      "source": [
        "### ***Running the algorithm***"
      ],
      "metadata": {
        "id": "N7sDyl8qPALa"
      }
    },
    {
      "cell_type": "code",
      "source": [
        "x = X_train\n",
        "xT = np.transpose(x)\n",
        "xT_x = np.dot(xT, x)\n",
        "xT_xInv = np.linalg.pinv(xT_x)\n",
        "tmp = np.dot(xT_xInv, xT)\n",
        "thetaArr = np.dot(tmp, df_train[\"label\"])\n",
        "thetaArr"
      ],
      "metadata": {
        "colab": {
          "base_uri": "https://localhost:8080/"
        },
        "id": "yYl6TZH1O_6h",
        "outputId": "916d2e94-2965-462a-95d3-9a8c919b283b"
      },
      "execution_count": 8,
      "outputs": [
        {
          "output_type": "execute_result",
          "data": {
            "text/plain": [
              "array([ 5.03635387e-01, -6.04222663e-01, -6.76571230e-01,  5.59042152e-01,\n",
              "        5.04432664e-01, -5.03651957e+00,  4.03334082e+00, -3.20240725e+01,\n",
              "        5.04432664e-01, -1.40760910e+01,  3.16041930e-03, -1.35929530e-02,\n",
              "       -9.73236568e-03, -1.89056793e-02, -8.08514581e-03,  8.61590727e-03,\n",
              "        1.00067203e-02,  2.40241891e-02,  8.26820971e-03, -7.49364052e-04])"
            ]
          },
          "metadata": {},
          "execution_count": 8
        }
      ]
    },
    {
      "cell_type": "markdown",
      "source": [
        "### ***Predicting Labels***"
      ],
      "metadata": {
        "id": "NU_OpA9nPI6z"
      }
    },
    {
      "cell_type": "code",
      "source": [
        "predictedLabels = np.dot(X_test, thetaArr)\n",
        "predictedLabels = predictedLabels.reshape(10000, 1)\n",
        "predictedLabels"
      ],
      "metadata": {
        "colab": {
          "base_uri": "https://localhost:8080/"
        },
        "id": "TFjhG595PHvw",
        "outputId": "2a8800a1-fe40-4a8f-cf38-2ab6a236306a"
      },
      "execution_count": 9,
      "outputs": [
        {
          "output_type": "execute_result",
          "data": {
            "text/plain": [
              "array([[ -671.04784137],\n",
              "       [ -825.2600687 ],\n",
              "       [  310.76019999],\n",
              "       ...,\n",
              "       [-1994.7097995 ],\n",
              "       [   12.21593281],\n",
              "       [  -51.56655213]])"
            ]
          },
          "metadata": {},
          "execution_count": 9
        }
      ]
    },
    {
      "cell_type": "code",
      "source": [
        "Y_test"
      ],
      "metadata": {
        "colab": {
          "base_uri": "https://localhost:8080/"
        },
        "id": "Um-JkkKNPOui",
        "outputId": "1ab32675-29b1-4734-98e4-7b727d01e59e"
      },
      "execution_count": 10,
      "outputs": [
        {
          "output_type": "execute_result",
          "data": {
            "text/plain": [
              "array([[ -657.66930949],\n",
              "       [ -545.36252395],\n",
              "       [  -75.04418664],\n",
              "       ...,\n",
              "       [-1771.64069421],\n",
              "       [  -22.74692118],\n",
              "       [  -64.85344575]])"
            ]
          },
          "metadata": {},
          "execution_count": 10
        }
      ]
    },
    {
      "cell_type": "code",
      "source": [
        "def meanAbsoluteError(actual, predicted):\n",
        "  return sum(abs(actual - predicted))/len(actual)\n",
        "\n",
        "def meanSquaredError(actual, predicted):\n",
        "  return sum(np.square(actual - predicted))/len(actual)\n",
        "\n",
        "def rootMeanSquaredError(actual, predicted):\n",
        "  return math.sqrt(meanSquaredError(actual, predicted))\n",
        "\n",
        "def r2Score(actual, predicted):\n",
        "  return 1 - sum(abs(np.square(actual - predicted)))/sum(abs(np.square(actual - np.mean(actual))))"
      ],
      "metadata": {
        "id": "MQejsg2EPRCm"
      },
      "execution_count": 11,
      "outputs": []
    },
    {
      "cell_type": "code",
      "source": [
        "MAE = meanAbsoluteError(Y_test, predictedLabels)\n",
        "MSE = meanSquaredError(Y_test, predictedLabels)\n",
        "RMSE = rootMeanSquaredError(Y_test, predictedLabels)\n",
        "R2S = r2Score(Y_test, predictedLabels)\n",
        "print(\"Mean Absolute Error:\", MAE)\n",
        "print(\"Mean Squared Error:\", MSE)\n",
        "print(\"Root Mean Squared Error:\", RMSE)\n",
        "print(\"R2 Score:\", R2S)"
      ],
      "metadata": {
        "colab": {
          "base_uri": "https://localhost:8080/"
        },
        "id": "LPJ-R5wuPTY9",
        "outputId": "15e9e679-026e-4e6c-dd6f-9a5106b815a9"
      },
      "execution_count": 12,
      "outputs": [
        {
          "output_type": "stream",
          "name": "stdout",
          "text": [
            "Mean Absolute Error: [175.04212691]\n",
            "Mean Squared Error: [54396.76622051]\n",
            "Root Mean Squared Error: 233.2311433331972\n",
            "R2 Score: [0.96258057]\n"
          ]
        }
      ]
    }
  ]
}