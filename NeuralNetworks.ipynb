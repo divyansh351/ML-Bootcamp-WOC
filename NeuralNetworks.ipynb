{
  "nbformat": 4,
  "nbformat_minor": 0,
  "metadata": {
    "colab": {
      "name": "NeuralNetworks.ipynb",
      "provenance": [],
      "authorship_tag": "ABX9TyMMQuCrKnMfko2ckEWtXBhC",
      "include_colab_link": true
    },
    "kernelspec": {
      "name": "python3",
      "display_name": "Python 3"
    },
    "language_info": {
      "name": "python"
    }
  },
  "cells": [
    {
      "cell_type": "markdown",
      "metadata": {
        "id": "view-in-github",
        "colab_type": "text"
      },
      "source": [
        "<a href=\"https://colab.research.google.com/github/divyansh351/ML-Bootcamp-WOC/blob/main/NeuralNetworks.ipynb\" target=\"_parent\"><img src=\"https://colab.research.google.com/assets/colab-badge.svg\" alt=\"Open In Colab\"/></a>"
      ]
    },
    {
      "cell_type": "code",
      "execution_count": 1,
      "metadata": {
        "id": "rcIWkmNTeuFD",
        "colab": {
          "base_uri": "https://localhost:8080/"
        },
        "outputId": "8ccdd464-7c42-4f66-93bc-cb3aba572e02"
      },
      "outputs": [
        {
          "output_type": "stream",
          "name": "stdout",
          "text": [
            "Mounted at /content/drive\n"
          ]
        }
      ],
      "source": [
        "import numpy as np\n",
        "import pandas as pd\n",
        "import math\n",
        "import matplotlib.pyplot as plt\n",
        "from google.colab import drive\n",
        "drive.mount('/content/drive')"
      ]
    },
    {
      "cell_type": "code",
      "source": [
        "%cd /content/drive/MyDrive/cyberlabs/emnist_data2\n",
        "train_path = '/content/drive/MyDrive/cyberlabs/emnist_data2/emnist-letters-train.csv'\n",
        "test_path = '/content/drive/MyDrive/cyberlabs/emnist_data2/emnist-letters-test.csv'\n",
        "df_train = pd.read_csv(train_path, header=None)\n",
        "df_test = pd.read_csv(test_path, header=None)"
      ],
      "metadata": {
        "colab": {
          "base_uri": "https://localhost:8080/"
        },
        "id": "LkoM4jGcIREW",
        "outputId": "b22bf562-676c-4a60-eaa5-356492fb9b49"
      },
      "execution_count": 2,
      "outputs": [
        {
          "output_type": "stream",
          "name": "stdout",
          "text": [
            "/content/drive/MyDrive/cyberlabs/emnist_data2\n"
          ]
        }
      ]
    },
    {
      "cell_type": "code",
      "source": [
        "print('Loading Data ...\\n')\n",
        "X=df_train.drop([0], axis=1)\n",
        "X_train=X.to_numpy().astype('float64')\n",
        "X_train = X_train/255.0\n",
        "m,n=X_train.shape\n",
        "X_train = X_train.T\n",
        "Y_train=df_train[0].to_numpy().astype('int').reshape(1, m)\n",
        "m1,n1=Y_train.shape\n",
        "print(X_train,'\\nShape -', m, n,'\\n')\n",
        "print(Y_train,'\\nShape -', m1, n1)\n",
        "Y_train = Y_train - 1"
      ],
      "metadata": {
        "colab": {
          "base_uri": "https://localhost:8080/"
        },
        "id": "gyu3gbHFKFfp",
        "outputId": "097b8547-abe8-475d-ecf0-d4285b88b03d"
      },
      "execution_count": 3,
      "outputs": [
        {
          "output_type": "stream",
          "name": "stdout",
          "text": [
            "Loading Data ...\n",
            "\n",
            "[[0. 0. 0. ... 0. 0. 0.]\n",
            " [0. 0. 0. ... 0. 0. 0.]\n",
            " [0. 0. 0. ... 0. 0. 0.]\n",
            " ...\n",
            " [0. 0. 0. ... 0. 0. 0.]\n",
            " [0. 0. 0. ... 0. 0. 0.]\n",
            " [0. 0. 0. ... 0. 0. 0.]] \n",
            "Shape - 64783 784 \n",
            "\n",
            "[[ 1  1  1 ... 19 19 19]] \n",
            "Shape - 1 64783\n"
          ]
        }
      ]
    },
    {
      "cell_type": "code",
      "source": [
        "print('Loading Data ...\\n')\n",
        "X=df_test.drop([0], axis=1)\n",
        "X_test=X.to_numpy().astype('float64')\n",
        "X_test = X_test/255.0\n",
        "mt,nt=X_test.shape\n",
        "X_test = X_test.T\n",
        "Y_test=df_test[0].to_numpy().astype('int').reshape(1, mt)\n",
        "mt1,nt1=Y_test.shape\n",
        "print(X_test,'\\nShape -', mt, nt,'\\n')\n",
        "print(Y_test, '\\nShape -', mt1, nt1)\n",
        "Y_test = Y_test - 1"
      ],
      "metadata": {
        "colab": {
          "base_uri": "https://localhost:8080/"
        },
        "id": "dWgVnBV9K9lb",
        "outputId": "25f3d53c-ae68-4cf6-dc82-bfee3a55a0ad"
      },
      "execution_count": 4,
      "outputs": [
        {
          "output_type": "stream",
          "name": "stdout",
          "text": [
            "Loading Data ...\n",
            "\n",
            "[[0. 0. 0. ... 0. 0. 0.]\n",
            " [0. 0. 0. ... 0. 0. 0.]\n",
            " [0. 0. 0. ... 0. 0. 0.]\n",
            " ...\n",
            " [0. 0. 0. ... 0. 0. 0.]\n",
            " [0. 0. 0. ... 0. 0. 0.]\n",
            " [0. 0. 0. ... 0. 0. 0.]] \n",
            "Shape - 14800 784 \n",
            "\n",
            "[[ 1  1  1 ... 19 19 19]] \n",
            "Shape - 1 14800\n"
          ]
        }
      ]
    },
    {
      "cell_type": "code",
      "source": [
        "def init_params():\n",
        "    W1 = np.random.rand(19, 784) - 0.5\n",
        "    b1 = np.random.rand(19, 1) - 0.5\n",
        "    W2 = np.random.rand(19, 19) - 0.5\n",
        "    b2 = np.random.rand(19, 1) - 0.5\n",
        "    return W1, b1, W2, b2\n",
        "\n",
        "def ReLU(Z):\n",
        "    return np.maximum(Z, 0)\n",
        "\n",
        "def softmax(Z):\n",
        "    A = np.exp(Z) / sum(np.exp(Z))\n",
        "    return A\n",
        "    \n",
        "def forward_prop(W1, b1, W2, b2, X):\n",
        "    Z1 = W1.dot(X) + b1\n",
        "    A1 = ReLU(Z1)\n",
        "    Z2 = W2.dot(A1) + b2\n",
        "    A2 = softmax(Z2)\n",
        "    return Z1, A1, Z2, A2\n",
        "\n",
        "def ReLU_deriv(Z):\n",
        "    return Z > 0\n",
        "\n",
        "def one_hot(Y):\n",
        "    one_hot_Y = np.zeros((Y.size, Y.max() + 1))\n",
        "    one_hot_Y[np.arange(Y.size), Y] = 1\n",
        "    one_hot_Y = one_hot_Y.T\n",
        "    return one_hot_Y\n",
        "\n",
        "def backward_prop(Z1, A1, Z2, A2, W1, W2, X, Y):\n",
        "    one_hot_Y = one_hot(Y)\n",
        "    dZ2 = A2 - one_hot_Y\n",
        "    dW2 = 1 / m * dZ2.dot(A1.T)\n",
        "    db2 = 1 / m * np.sum(dZ2)\n",
        "    dZ1 = W2.T.dot(dZ2) * ReLU_deriv(Z1)\n",
        "    dW1 = 1 / m * dZ1.dot(X.T)\n",
        "    db1 = 1 / m * np.sum(dZ1)\n",
        "    return dW1, db1, dW2, db2\n",
        "\n",
        "def update_params(W1, b1, W2, b2, dW1, db1, dW2, db2, alpha):\n",
        "    W1 = W1 - alpha * dW1\n",
        "    b1 = b1 - alpha * db1    \n",
        "    W2 = W2 - alpha * dW2  \n",
        "    b2 = b2 - alpha * db2    \n",
        "    return W1, b1, W2, b2"
      ],
      "metadata": {
        "id": "VYGLGqcQIbNG"
      },
      "execution_count": 5,
      "outputs": []
    },
    {
      "cell_type": "code",
      "source": [
        "def get_predictions(A2):\n",
        "    return np.argmax(A2, 0)\n",
        "\n",
        "def get_accuracy(predictions, Y):\n",
        "    print(predictions, Y)\n",
        "    return np.sum(predictions == Y) / Y.size\n",
        "\n",
        "def gradient_descent(X, Y, alpha, iterations):\n",
        "    W1, b1, W2, b2 = init_params()\n",
        "    for i in range(iterations):\n",
        "        Z1, A1, Z2, A2 = forward_prop(W1, b1, W2, b2, X)\n",
        "        dW1, db1, dW2, db2 = backward_prop(Z1, A1, Z2, A2, W1, W2, X, Y)\n",
        "        W1, b1, W2, b2 = update_params(W1, b1, W2, b2, dW1, db1, dW2, db2, alpha)\n",
        "        if i % 300 == 0:\n",
        "            print(\"Iteration: \", i)\n",
        "            predictions = get_predictions(A2)\n",
        "            print(get_accuracy(predictions, Y))\n",
        "    return W1, b1, W2, b2"
      ],
      "metadata": {
        "id": "vMKUYFx-NRCY"
      },
      "execution_count": 6,
      "outputs": []
    },
    {
      "cell_type": "code",
      "source": [
        "W1, b1, W2, b2 = gradient_descent(X_train, Y_train, 0.5, 3000)"
      ],
      "metadata": {
        "colab": {
          "base_uri": "https://localhost:8080/"
        },
        "id": "9H1ofDmINrKN",
        "outputId": "2a366425-4d1d-4a9f-aa48-67230d6ed55f"
      },
      "execution_count": 7,
      "outputs": [
        {
          "output_type": "stream",
          "name": "stdout",
          "text": [
            "Iteration:  0\n",
            "[14 14 18 ...  8 18 18] [[ 0  0  0 ... 18 18 18]]\n",
            "0.06520229072441844\n",
            "Iteration:  300\n",
            "[ 0  0  6 ... 18 18 18] [[ 0  0  0 ... 18 18 18]]\n",
            "0.6853186792831453\n",
            "Iteration:  600\n",
            "[ 0  0  6 ... 18 18 18] [[ 0  0  0 ... 18 18 18]]\n",
            "0.7277063427133662\n",
            "Iteration:  900\n",
            "[ 0  0  6 ... 18 18 18] [[ 0  0  0 ... 18 18 18]]\n",
            "0.744624361329361\n",
            "Iteration:  1200\n",
            "[ 0  0  0 ... 18 18 18] [[ 0  0  0 ... 18 18 18]]\n",
            "0.7636416961239831\n",
            "Iteration:  1500\n",
            "[ 0  0  0 ... 18 18 18] [[ 0  0  0 ... 18 18 18]]\n",
            "0.7699396446598644\n",
            "Iteration:  1800\n",
            "[ 0  0  0 ... 18 18 18] [[ 0  0  0 ... 18 18 18]]\n",
            "0.7813160860102187\n",
            "Iteration:  2100\n",
            "[ 0  0  0 ... 18 18 18] [[ 0  0  0 ... 18 18 18]]\n",
            "0.7925381658768504\n",
            "Iteration:  2400\n",
            "[ 0  0  0 ... 18 18 18] [[ 0  0  0 ... 18 18 18]]\n",
            "0.7890341601963478\n",
            "Iteration:  2700\n",
            "[ 0  0  0 ... 18 18 18] [[ 0  0  0 ... 18 18 18]]\n",
            "0.799453560347622\n"
          ]
        }
      ]
    },
    {
      "cell_type": "code",
      "source": [
        "def make_predictions(X, W1, b1, W2, b2):\n",
        "    _, _, _, A2 = forward_prop(W1, b1, W2, b2, X)\n",
        "    predictions = get_predictions(A2)\n",
        "    return predictions\n",
        "\n",
        "def test_prediction(index, W1, b1, W2, b2):\n",
        "    current_image = X_train[:, index, None]\n",
        "    prediction = make_predictions(X_train[:, index, None], W1, b1, W2, b2)\n",
        "    label = Y_train[index]\n",
        "    print(\"Prediction: \", prediction)\n",
        "    print(\"Label: \", label)\n",
        "    \n",
        "    current_image = current_image.reshape((28, 28)) * 255\n",
        "    plt.gray()\n",
        "    plt.imshow(current_image, interpolation='nearest')\n",
        "    plt.show()"
      ],
      "metadata": {
        "id": "BFO4xe9aXkYf"
      },
      "execution_count": 8,
      "outputs": []
    },
    {
      "cell_type": "code",
      "source": [
        "dev_predictions = make_predictions(X_test, W1, b1, W2, b2)\n",
        "get_accuracy(dev_predictions, Y_test)"
      ],
      "metadata": {
        "colab": {
          "base_uri": "https://localhost:8080/"
        },
        "id": "5WXPkpAJX49H",
        "outputId": "cbfc670b-4f51-4bc3-ba6c-a96b5becc1f0"
      },
      "execution_count": 9,
      "outputs": [
        {
          "output_type": "stream",
          "name": "stdout",
          "text": [
            "[ 5  0  0 ... 18 18  2] [[ 0  0  0 ... 18 18 18]]\n"
          ]
        },
        {
          "output_type": "execute_result",
          "data": {
            "text/plain": [
              "0.7831756756756757"
            ]
          },
          "metadata": {},
          "execution_count": 9
        }
      ]
    },
    {
      "cell_type": "code",
      "source": [
        "test_prediction(0, W1, b1, W2, b2)"
      ],
      "metadata": {
        "colab": {
          "base_uri": "https://localhost:8080/",
          "height": 300
        },
        "id": "4hbgXkWcv99l",
        "outputId": "1d30da32-5be0-4848-98ef-d5c5038934a5"
      },
      "execution_count": 10,
      "outputs": [
        {
          "output_type": "stream",
          "name": "stdout",
          "text": [
            "Prediction:  [0]\n",
            "Label:  [ 0  0  0 ... 18 18 18]\n"
          ]
        },
        {
          "output_type": "display_data",
          "data": {
            "text/plain": [
              "<Figure size 432x288 with 1 Axes>"
            ],
            "image/png": "[encoded data removed]"
          },
          "metadata": {
            "needs_background": "light"
          }
        }
      ]
    }
  ]
}