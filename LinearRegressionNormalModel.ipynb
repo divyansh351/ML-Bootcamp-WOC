{
  "nbformat": 4,
  "nbformat_minor": 0,
  "metadata": {
    "colab": {
      "name": "LinearRegressionNormalModel.ipynb",
      "provenance": [],
      "authorship_tag": "ABX9TyPw6f1KirCLLfY4BjCmmYCr",
      "include_colab_link": true
    },
    "kernelspec": {
      "name": "python3",
      "display_name": "Python 3"
    },
    "language_info": {
      "name": "python"
    }
  },
  "cells": [
    {
      "cell_type": "markdown",
      "metadata": {
        "id": "view-in-github",
        "colab_type": "text"
      },
      "source": [
        "<a href=\"https://colab.research.google.com/github/divyansh351/ML-Bootcamp-WOC/blob/main/LinearRegressionNormalModel.ipynb\" target=\"_parent\"><img src=\"https://colab.research.google.com/assets/colab-badge.svg\" alt=\"Open In Colab\"/></a>"
      ]
    },
    {
      "cell_type": "markdown",
      "source": [
        "# **Linear Regression**\n",
        "Normal method"
      ],
      "metadata": {
        "id": "RssWyGmc7a_T"
      }
    },
    {
      "cell_type": "markdown",
      "source": [
        "### *Importing necessary libraries*"
      ],
      "metadata": {
        "id": "Lh6YlRHNV8Wn"
      }
    },
    {
      "cell_type": "code",
      "execution_count": null,
      "metadata": {
        "id": "svkyjNEYKx-T"
      },
      "outputs": [],
      "source": [
        "import numpy as np\n",
        "import pandas as pd\n",
        "import matplotlib as mpl\n",
        "from google.colab import drive"
      ]
    },
    {
      "cell_type": "markdown",
      "source": [
        "### Google Drive mount for reading data"
      ],
      "metadata": {
        "id": "-o27_GNyWKI9"
      }
    },
    {
      "cell_type": "code",
      "source": [
        "drive.mount('/content/drive')"
      ],
      "metadata": {
        "colab": {
          "base_uri": "https://localhost:8080/"
        },
        "id": "qsELgursLhRT",
        "outputId": "ed503df2-1f36-4ac7-b551-1f7b974a8aa3"
      },
      "execution_count": null,
      "outputs": [
        {
          "output_type": "stream",
          "name": "stdout",
          "text": [
            "Mounted at /content/drive\n"
          ]
        }
      ]
    },
    {
      "cell_type": "code",
      "source": [
        "%cd /content/drive/MyDrive/cyberlabs/linear_data\n",
        "train_path = '/content/drive/MyDrive/cyberlabs/linear_data/Linear_train.csv'\n",
        "test_path = '/content/drive/MyDrive/cyberlabs/linear_data/Linear_test.csv'\n",
        "df_train = pd.read_csv(train_path)\n",
        "df_test = pd.read_csv(test_path)"
      ],
      "metadata": {
        "colab": {
          "base_uri": "https://localhost:8080/"
        },
        "id": "ZbWFVrujMOzQ",
        "outputId": "6b1be340-a704-44fc-e7c2-18b5965291d5"
      },
      "execution_count": null,
      "outputs": [
        {
          "output_type": "stream",
          "name": "stdout",
          "text": [
            "/content/drive/MyDrive/cyberlabs/linear_data\n"
          ]
        }
      ]
    },
    {
      "cell_type": "code",
      "source": [
        "df_train.head()"
      ],
      "metadata": {
        "id": "7USEJjMqP3A0",
        "colab": {
          "base_uri": "https://localhost:8080/",
          "height": 317
        },
        "outputId": "3298b46f-2e0e-4f13-b2fa-81b27dd9abc3"
      },
      "execution_count": null,
      "outputs": [
        {
          "output_type": "execute_result",
          "data": {
            "text/plain": [
              "   Unnamed: 0          A            B          C          D          E  \\\n",
              "0           0  -9.989516  1564.957586   8.199060  32.508797  19.464400   \n",
              "1           1 -17.591800  1559.053039  12.302737 -36.351098   6.256406   \n",
              "2           2 -28.321695  1305.900952 -35.681049  -9.039358 -45.519426   \n",
              "3           3 -40.471241  1612.746996 -28.980454   2.137719 -34.767491   \n",
              "4           4 -36.525271  1852.275617 -32.744347  -1.439526 -14.061837   \n",
              "\n",
              "             F          G          H            I  ...           L          M  \\\n",
              "0  1644.524093  26.100966  34.731954  4378.575414  ...  770.535311  30.060441   \n",
              "1  1640.834263  12.954212 -43.333128  4833.766813  ...  997.260070  -1.329145   \n",
              "2  2039.003363  -0.154348  18.107957  4162.395297  ...  616.059291  -6.997085   \n",
              "3  2757.469393  23.857472 -48.434183  4340.953927  ...  715.537625 -12.441561   \n",
              "4  2138.422485  44.061988  33.336936  4099.453685  ...  629.221442  10.992360   \n",
              "\n",
              "           N          O          P          Q          R          S  \\\n",
              "0 -25.002361  11.892468 -34.329383  37.218423  -4.440530  29.075092   \n",
              "1  16.022086  42.972484  -7.372877  45.550946  37.576551  12.926551   \n",
              "2  27.846844  26.511376  19.323152 -35.807513  -5.913019  15.046779   \n",
              "3  47.883435  36.994884  30.783992  22.162383  16.465836  41.435425   \n",
              "4 -47.143335  -8.296962  -8.086565  39.169726 -49.540056 -32.518653   \n",
              "\n",
              "           T         label  \n",
              "0  29.107896    311.232491  \n",
              "1 -32.565844   6393.112342  \n",
              "2 -34.332357   2601.046223  \n",
              "3  33.561233  13572.118106  \n",
              "4 -36.320202  -5462.446898  \n",
              "\n",
              "[5 rows x 22 columns]"
            ],
            "text/html": [
              "\n",
              "  <div id=\"df-535415e7-f2b0-4c44-b746-9fba7524490a\">\n",
              "    <div class=\"colab-df-container\">\n",
              "      <div>\n",
              "<style scoped>\n",
              "    .dataframe tbody tr th:only-of-type {\n",
              "        vertical-align: middle;\n",
              "    }\n",
              "\n",
              "    .dataframe tbody tr th {\n",
              "        vertical-align: top;\n",
              "    }\n",
              "\n",
              "    .dataframe thead th {\n",
              "        text-align: right;\n",
              "    }\n",
              "</style>\n",
              "<table border=\"1\" class=\"dataframe\">\n",
              "  <thead>\n",
              "    <tr style=\"text-align: right;\">\n",
              "      <th></th>\n",
              "      <th>Unnamed: 0</th>\n",
              "      <th>A</th>\n",
              "      <th>B</th>\n",
              "      <th>C</th>\n",
              "      <th>D</th>\n",
              "      <th>E</th>\n",
              "      <th>F</th>\n",
              "      <th>G</th>\n",
              "      <th>H</th>\n",
              "      <th>I</th>\n",
              "      <th>...</th>\n",
              "      <th>L</th>\n",
              "      <th>M</th>\n",
              "      <th>N</th>\n",
              "      <th>O</th>\n",
              "      <th>P</th>\n",
              "      <th>Q</th>\n",
              "      <th>R</th>\n",
              "      <th>S</th>\n",
              "      <th>T</th>\n",
              "      <th>label</th>\n",
              "    </tr>\n",
              "  </thead>\n",
              "  <tbody>\n",
              "    <tr>\n",
              "      <th>0</th>\n",
              "      <td>0</td>\n",
              "      <td>-9.989516</td>\n",
              "      <td>1564.957586</td>\n",
              "      <td>8.199060</td>\n",
              "      <td>32.508797</td>\n",
              "      <td>19.464400</td>\n",
              "      <td>1644.524093</td>\n",
              "      <td>26.100966</td>\n",
              "      <td>34.731954</td>\n",
              "      <td>4378.575414</td>\n",
              "      <td>...</td>\n",
              "      <td>770.535311</td>\n",
              "      <td>30.060441</td>\n",
              "      <td>-25.002361</td>\n",
              "      <td>11.892468</td>\n",
              "      <td>-34.329383</td>\n",
              "      <td>37.218423</td>\n",
              "      <td>-4.440530</td>\n",
              "      <td>29.075092</td>\n",
              "      <td>29.107896</td>\n",
              "      <td>311.232491</td>\n",
              "    </tr>\n",
              "    <tr>\n",
              "      <th>1</th>\n",
              "      <td>1</td>\n",
              "      <td>-17.591800</td>\n",
              "      <td>1559.053039</td>\n",
              "      <td>12.302737</td>\n",
              "      <td>-36.351098</td>\n",
              "      <td>6.256406</td>\n",
              "      <td>1640.834263</td>\n",
              "      <td>12.954212</td>\n",
              "      <td>-43.333128</td>\n",
              "      <td>4833.766813</td>\n",
              "      <td>...</td>\n",
              "      <td>997.260070</td>\n",
              "      <td>-1.329145</td>\n",
              "      <td>16.022086</td>\n",
              "      <td>42.972484</td>\n",
              "      <td>-7.372877</td>\n",
              "      <td>45.550946</td>\n",
              "      <td>37.576551</td>\n",
              "      <td>12.926551</td>\n",
              "      <td>-32.565844</td>\n",
              "      <td>6393.112342</td>\n",
              "    </tr>\n",
              "    <tr>\n",
              "      <th>2</th>\n",
              "      <td>2</td>\n",
              "      <td>-28.321695</td>\n",
              "      <td>1305.900952</td>\n",
              "      <td>-35.681049</td>\n",
              "      <td>-9.039358</td>\n",
              "      <td>-45.519426</td>\n",
              "      <td>2039.003363</td>\n",
              "      <td>-0.154348</td>\n",
              "      <td>18.107957</td>\n",
              "      <td>4162.395297</td>\n",
              "      <td>...</td>\n",
              "      <td>616.059291</td>\n",
              "      <td>-6.997085</td>\n",
              "      <td>27.846844</td>\n",
              "      <td>26.511376</td>\n",
              "      <td>19.323152</td>\n",
              "      <td>-35.807513</td>\n",
              "      <td>-5.913019</td>\n",
              "      <td>15.046779</td>\n",
              "      <td>-34.332357</td>\n",
              "      <td>2601.046223</td>\n",
              "    </tr>\n",
              "    <tr>\n",
              "      <th>3</th>\n",
              "      <td>3</td>\n",
              "      <td>-40.471241</td>\n",
              "      <td>1612.746996</td>\n",
              "      <td>-28.980454</td>\n",
              "      <td>2.137719</td>\n",
              "      <td>-34.767491</td>\n",
              "      <td>2757.469393</td>\n",
              "      <td>23.857472</td>\n",
              "      <td>-48.434183</td>\n",
              "      <td>4340.953927</td>\n",
              "      <td>...</td>\n",
              "      <td>715.537625</td>\n",
              "      <td>-12.441561</td>\n",
              "      <td>47.883435</td>\n",
              "      <td>36.994884</td>\n",
              "      <td>30.783992</td>\n",
              "      <td>22.162383</td>\n",
              "      <td>16.465836</td>\n",
              "      <td>41.435425</td>\n",
              "      <td>33.561233</td>\n",
              "      <td>13572.118106</td>\n",
              "    </tr>\n",
              "    <tr>\n",
              "      <th>4</th>\n",
              "      <td>4</td>\n",
              "      <td>-36.525271</td>\n",
              "      <td>1852.275617</td>\n",
              "      <td>-32.744347</td>\n",
              "      <td>-1.439526</td>\n",
              "      <td>-14.061837</td>\n",
              "      <td>2138.422485</td>\n",
              "      <td>44.061988</td>\n",
              "      <td>33.336936</td>\n",
              "      <td>4099.453685</td>\n",
              "      <td>...</td>\n",
              "      <td>629.221442</td>\n",
              "      <td>10.992360</td>\n",
              "      <td>-47.143335</td>\n",
              "      <td>-8.296962</td>\n",
              "      <td>-8.086565</td>\n",
              "      <td>39.169726</td>\n",
              "      <td>-49.540056</td>\n",
              "      <td>-32.518653</td>\n",
              "      <td>-36.320202</td>\n",
              "      <td>-5462.446898</td>\n",
              "    </tr>\n",
              "  </tbody>\n",
              "</table>\n",
              "<p>5 rows × 22 columns</p>\n",
              "</div>\n",
              "      <button class=\"colab-df-convert\" onclick=\"convertToInteractive('df-535415e7-f2b0-4c44-b746-9fba7524490a')\"\n",
              "              title=\"Convert this dataframe to an interactive table.\"\n",
              "              style=\"display:none;\">\n",
              "        \n",
              "  <svg xmlns=\"http://www.w3.org/2000/svg\" height=\"24px\"viewBox=\"0 0 24 24\"\n",
              "       width=\"24px\">\n",
              "    <path d=\"M0 0h24v24H0V0z\" fill=\"none\"/>\n",
              "    <path d=\"M18.56 5.44l.94 2.06.94-2.06 2.06-.94-2.06-.94-.94-2.06-.94 2.06-2.06.94zm-11 1L8.5 8.5l.94-2.06 2.06-.94-2.06-.94L8.5 2.5l-.94 2.06-2.06.94zm10 10l.94 2.06.94-2.06 2.06-.94-2.06-.94-.94-2.06-.94 2.06-2.06.94z\"/><path d=\"M17.41 7.96l-1.37-1.37c-.4-.4-.92-.59-1.43-.59-.52 0-1.04.2-1.43.59L10.3 9.45l-7.72 7.72c-.78.78-.78 2.05 0 2.83L4 21.41c.39.39.9.59 1.41.59.51 0 1.02-.2 1.41-.59l7.78-7.78 2.81-2.81c.8-.78.8-2.07 0-2.86zM5.41 20L4 18.59l7.72-7.72 1.47 1.35L5.41 20z\"/>\n",
              "  </svg>\n",
              "      </button>\n",
              "      \n",
              "  <style>\n",
              "    .colab-df-container {\n",
              "      display:flex;\n",
              "      flex-wrap:wrap;\n",
              "      gap: 12px;\n",
              "    }\n",
              "\n",
              "    .colab-df-convert {\n",
              "      background-color: #E8F0FE;\n",
              "      border: none;\n",
              "      border-radius: 50%;\n",
              "      cursor: pointer;\n",
              "      display: none;\n",
              "      fill: #1967D2;\n",
              "      height: 32px;\n",
              "      padding: 0 0 0 0;\n",
              "      width: 32px;\n",
              "    }\n",
              "\n",
              "    .colab-df-convert:hover {\n",
              "      background-color: #E2EBFA;\n",
              "      box-shadow: 0px 1px 2px rgba(60, 64, 67, 0.3), 0px 1px 3px 1px rgba(60, 64, 67, 0.15);\n",
              "      fill: #174EA6;\n",
              "    }\n",
              "\n",
              "    [theme=dark] .colab-df-convert {\n",
              "      background-color: #3B4455;\n",
              "      fill: #D2E3FC;\n",
              "    }\n",
              "\n",
              "    [theme=dark] .colab-df-convert:hover {\n",
              "      background-color: #434B5C;\n",
              "      box-shadow: 0px 1px 3px 1px rgba(0, 0, 0, 0.15);\n",
              "      filter: drop-shadow(0px 1px 2px rgba(0, 0, 0, 0.3));\n",
              "      fill: #FFFFFF;\n",
              "    }\n",
              "  </style>\n",
              "\n",
              "      <script>\n",
              "        const buttonEl =\n",
              "          document.querySelector('#df-535415e7-f2b0-4c44-b746-9fba7524490a button.colab-df-convert');\n",
              "        buttonEl.style.display =\n",
              "          google.colab.kernel.accessAllowed ? 'block' : 'none';\n",
              "\n",
              "        async function convertToInteractive(key) {\n",
              "          const element = document.querySelector('#df-535415e7-f2b0-4c44-b746-9fba7524490a');\n",
              "          const dataTable =\n",
              "            await google.colab.kernel.invokeFunction('convertToInteractive',\n",
              "                                                     [key], {});\n",
              "          if (!dataTable) return;\n",
              "\n",
              "          const docLinkHtml = 'Like what you see? Visit the ' +\n",
              "            '<a target=\"_blank\" href=https://colab.research.google.com/notebooks/data_table.ipynb>data table notebook</a>'\n",
              "            + ' to learn more about interactive tables.';\n",
              "          element.innerHTML = '';\n",
              "          dataTable['output_type'] = 'display_data';\n",
              "          await google.colab.output.renderOutput(dataTable, element);\n",
              "          const docLink = document.createElement('div');\n",
              "          docLink.innerHTML = docLinkHtml;\n",
              "          element.appendChild(docLink);\n",
              "        }\n",
              "      </script>\n",
              "    </div>\n",
              "  </div>\n",
              "  "
            ]
          },
          "metadata": {},
          "execution_count": 4
        }
      ]
    },
    {
      "cell_type": "markdown",
      "source": [
        "**Pre-processing the training dataset**"
      ],
      "metadata": {
        "id": "0pGcEO9h9BlE"
      }
    },
    {
      "cell_type": "code",
      "source": [
        "df_train.shape"
      ],
      "metadata": {
        "colab": {
          "base_uri": "https://localhost:8080/"
        },
        "id": "A6g-TQZQ8_Ng",
        "outputId": "71c34913-e228-45fd-a784-a2079beb7363"
      },
      "execution_count": null,
      "outputs": [
        {
          "output_type": "execute_result",
          "data": {
            "text/plain": [
              "(50000, 22)"
            ]
          },
          "metadata": {},
          "execution_count": 5
        }
      ]
    },
    {
      "cell_type": "code",
      "source": [
        "initial_features = df_train.drop(df_train.columns[[0, 21]], axis=1)\n",
        "bias_feature = np.ones((50000,1), dtype=int)\n",
        "fin_features = np.append(bias_feature, initial_features, axis=1)\n",
        "fin_features.shape"
      ],
      "metadata": {
        "colab": {
          "base_uri": "https://localhost:8080/"
        },
        "id": "_0v1AUX9-M4-",
        "outputId": "6b47bf15-e005-4e65-db4b-53dac1a25c46"
      },
      "execution_count": null,
      "outputs": [
        {
          "output_type": "execute_result",
          "data": {
            "text/plain": [
              "(50000, 21)"
            ]
          },
          "metadata": {},
          "execution_count": 6
        }
      ]
    },
    {
      "cell_type": "markdown",
      "source": [
        "## Getting the weights of features by Normal method"
      ],
      "metadata": {
        "id": "gNcmhQaXXqIR"
      }
    },
    {
      "cell_type": "code",
      "source": [
        "x = fin_features\n",
        "xT = np.transpose(x)\n",
        "xT_x = np.dot(xT, x)\n",
        "xT_xInv = np.linalg.pinv(xT_x)\n",
        "tmp = np.dot(xT_xInv, xT)\n",
        "thetaArr = np.dot(tmp, df_train[\"label\"])\n",
        "thetaArr"
      ],
      "metadata": {
        "colab": {
          "base_uri": "https://localhost:8080/"
        },
        "id": "NIlCoBMbDyAz",
        "outputId": "93965378-aa10-4611-eb21-f01bd5990552"
      },
      "execution_count": null,
      "outputs": [
        {
          "output_type": "execute_result",
          "data": {
            "text/plain": [
              "array([  0.41798009,  12.97514207,   0.19986194, -27.01640538,\n",
              "         8.00839953,  37.01706628,   0.15057057,  18.99806047,\n",
              "       -28.98788571,   0.12003303,  22.99241979,  31.00883313,\n",
              "         0.59855499, -90.99824953,  34.00876787,  44.97847335,\n",
              "        51.01549757,  24.00743911,  -1.00974707,  94.96623968,\n",
              "        25.00788367])"
            ]
          },
          "metadata": {},
          "execution_count": 7
        }
      ]
    },
    {
      "cell_type": "markdown",
      "source": [
        "**Pre-processing the test dataset**"
      ],
      "metadata": {
        "id": "dvpu-387OMXR"
      }
    },
    {
      "cell_type": "code",
      "source": [
        "df_test.shape"
      ],
      "metadata": {
        "colab": {
          "base_uri": "https://localhost:8080/"
        },
        "id": "Ei6AW-WjOnYK",
        "outputId": "37c22e18-8018-4b98-d988-825856423ee7"
      },
      "execution_count": null,
      "outputs": [
        {
          "output_type": "execute_result",
          "data": {
            "text/plain": [
              "(10000, 22)"
            ]
          },
          "metadata": {},
          "execution_count": 8
        }
      ]
    },
    {
      "cell_type": "code",
      "source": [
        "initial_featuresTest = df_test.drop(df_test.columns[[0, 21]], axis=1)\n",
        "bias_featureTest = np.ones((10000,1), dtype=int)\n",
        "fin_featuresTest = np.append(bias_featureTest, initial_featuresTest, axis=1)\n",
        "fin_featuresTest.shape"
      ],
      "metadata": {
        "colab": {
          "base_uri": "https://localhost:8080/"
        },
        "id": "6RSF9yZBOTEH",
        "outputId": "31af6fe0-214a-460e-ee97-a06997921cf9"
      },
      "execution_count": null,
      "outputs": [
        {
          "output_type": "execute_result",
          "data": {
            "text/plain": [
              "(10000, 21)"
            ]
          },
          "metadata": {},
          "execution_count": 9
        }
      ]
    },
    {
      "cell_type": "code",
      "source": [
        "predictedLabels = np.dot(fin_featuresTest, thetaArr)\n",
        "predictedLabels"
      ],
      "metadata": {
        "colab": {
          "base_uri": "https://localhost:8080/"
        },
        "id": "wnoazttdO3E7",
        "outputId": "c530cbe3-d85d-4cc7-95d6-6329e1bb908b"
      },
      "execution_count": null,
      "outputs": [
        {
          "output_type": "execute_result",
          "data": {
            "text/plain": [
              "array([ -161.95570334,  6482.49411349,  2397.24820136, ...,\n",
              "       -1402.9354843 ,  1976.02602503, -6119.77479909])"
            ]
          },
          "metadata": {},
          "execution_count": 10
        }
      ]
    },
    {
      "cell_type": "code",
      "source": [
        "requiredLabels = df_test[\"label\"]"
      ],
      "metadata": {
        "id": "xeOu-9a2P8Fa"
      },
      "execution_count": null,
      "outputs": []
    },
    {
      "cell_type": "markdown",
      "source": [
        "### Calculating the percentage accuracy"
      ],
      "metadata": {
        "id": "th5MW24AZJDr"
      }
    },
    {
      "cell_type": "code",
      "source": [
        "requiredLabels"
      ],
      "metadata": {
        "colab": {
          "base_uri": "https://localhost:8080/"
        },
        "id": "RzOd9_klQdnp",
        "outputId": "fa0f8ba2-f7e3-4e88-8f42-776cbac05fe4"
      },
      "execution_count": null,
      "outputs": [
        {
          "output_type": "execute_result",
          "data": {
            "text/plain": [
              "0        -163.522723\n",
              "1        6484.664510\n",
              "2        2393.818082\n",
              "3       -9397.072355\n",
              "4       10487.323575\n",
              "            ...     \n",
              "9995    -7526.092452\n",
              "9996     6133.716734\n",
              "9997    -1404.204034\n",
              "9998     1972.371711\n",
              "9999    -6120.248772\n",
              "Name: label, Length: 10000, dtype: float64"
            ]
          },
          "metadata": {},
          "execution_count": 12
        }
      ]
    },
    {
      "cell_type": "code",
      "source": [
        "df = pd.DataFrame({'Actual': requiredLabels, 'Predicted': predictedLabels})\n",
        "df"
      ],
      "metadata": {
        "colab": {
          "base_uri": "https://localhost:8080/",
          "height": 423
        },
        "id": "L8xr_FABcbb3",
        "outputId": "3864788d-b9b8-42d0-8055-f6a2faa57df5"
      },
      "execution_count": null,
      "outputs": [
        {
          "output_type": "execute_result",
          "data": {
            "text/plain": [
              "            Actual     Predicted\n",
              "0      -163.522723   -161.955703\n",
              "1      6484.664510   6482.494113\n",
              "2      2393.818082   2397.248201\n",
              "3     -9397.072355  -9397.694692\n",
              "4     10487.323575  10485.045125\n",
              "...            ...           ...\n",
              "9995  -7526.092452  -7525.563083\n",
              "9996   6133.716734   6132.757332\n",
              "9997  -1404.204034  -1402.935484\n",
              "9998   1972.371711   1976.026025\n",
              "9999  -6120.248772  -6119.774799\n",
              "\n",
              "[10000 rows x 2 columns]"
            ],
            "text/html": [
              "\n",
              "  <div id=\"df-b7118477-9341-4fd8-b170-90a6b6568501\">\n",
              "    <div class=\"colab-df-container\">\n",
              "      <div>\n",
              "<style scoped>\n",
              "    .dataframe tbody tr th:only-of-type {\n",
              "        vertical-align: middle;\n",
              "    }\n",
              "\n",
              "    .dataframe tbody tr th {\n",
              "        vertical-align: top;\n",
              "    }\n",
              "\n",
              "    .dataframe thead th {\n",
              "        text-align: right;\n",
              "    }\n",
              "</style>\n",
              "<table border=\"1\" class=\"dataframe\">\n",
              "  <thead>\n",
              "    <tr style=\"text-align: right;\">\n",
              "      <th></th>\n",
              "      <th>Actual</th>\n",
              "      <th>Predicted</th>\n",
              "    </tr>\n",
              "  </thead>\n",
              "  <tbody>\n",
              "    <tr>\n",
              "      <th>0</th>\n",
              "      <td>-163.522723</td>\n",
              "      <td>-161.955703</td>\n",
              "    </tr>\n",
              "    <tr>\n",
              "      <th>1</th>\n",
              "      <td>6484.664510</td>\n",
              "      <td>6482.494113</td>\n",
              "    </tr>\n",
              "    <tr>\n",
              "      <th>2</th>\n",
              "      <td>2393.818082</td>\n",
              "      <td>2397.248201</td>\n",
              "    </tr>\n",
              "    <tr>\n",
              "      <th>3</th>\n",
              "      <td>-9397.072355</td>\n",
              "      <td>-9397.694692</td>\n",
              "    </tr>\n",
              "    <tr>\n",
              "      <th>4</th>\n",
              "      <td>10487.323575</td>\n",
              "      <td>10485.045125</td>\n",
              "    </tr>\n",
              "    <tr>\n",
              "      <th>...</th>\n",
              "      <td>...</td>\n",
              "      <td>...</td>\n",
              "    </tr>\n",
              "    <tr>\n",
              "      <th>9995</th>\n",
              "      <td>-7526.092452</td>\n",
              "      <td>-7525.563083</td>\n",
              "    </tr>\n",
              "    <tr>\n",
              "      <th>9996</th>\n",
              "      <td>6133.716734</td>\n",
              "      <td>6132.757332</td>\n",
              "    </tr>\n",
              "    <tr>\n",
              "      <th>9997</th>\n",
              "      <td>-1404.204034</td>\n",
              "      <td>-1402.935484</td>\n",
              "    </tr>\n",
              "    <tr>\n",
              "      <th>9998</th>\n",
              "      <td>1972.371711</td>\n",
              "      <td>1976.026025</td>\n",
              "    </tr>\n",
              "    <tr>\n",
              "      <th>9999</th>\n",
              "      <td>-6120.248772</td>\n",
              "      <td>-6119.774799</td>\n",
              "    </tr>\n",
              "  </tbody>\n",
              "</table>\n",
              "<p>10000 rows × 2 columns</p>\n",
              "</div>\n",
              "      <button class=\"colab-df-convert\" onclick=\"convertToInteractive('df-b7118477-9341-4fd8-b170-90a6b6568501')\"\n",
              "              title=\"Convert this dataframe to an interactive table.\"\n",
              "              style=\"display:none;\">\n",
              "        \n",
              "  <svg xmlns=\"http://www.w3.org/2000/svg\" height=\"24px\"viewBox=\"0 0 24 24\"\n",
              "       width=\"24px\">\n",
              "    <path d=\"M0 0h24v24H0V0z\" fill=\"none\"/>\n",
              "    <path d=\"M18.56 5.44l.94 2.06.94-2.06 2.06-.94-2.06-.94-.94-2.06-.94 2.06-2.06.94zm-11 1L8.5 8.5l.94-2.06 2.06-.94-2.06-.94L8.5 2.5l-.94 2.06-2.06.94zm10 10l.94 2.06.94-2.06 2.06-.94-2.06-.94-.94-2.06-.94 2.06-2.06.94z\"/><path d=\"M17.41 7.96l-1.37-1.37c-.4-.4-.92-.59-1.43-.59-.52 0-1.04.2-1.43.59L10.3 9.45l-7.72 7.72c-.78.78-.78 2.05 0 2.83L4 21.41c.39.39.9.59 1.41.59.51 0 1.02-.2 1.41-.59l7.78-7.78 2.81-2.81c.8-.78.8-2.07 0-2.86zM5.41 20L4 18.59l7.72-7.72 1.47 1.35L5.41 20z\"/>\n",
              "  </svg>\n",
              "      </button>\n",
              "      \n",
              "  <style>\n",
              "    .colab-df-container {\n",
              "      display:flex;\n",
              "      flex-wrap:wrap;\n",
              "      gap: 12px;\n",
              "    }\n",
              "\n",
              "    .colab-df-convert {\n",
              "      background-color: #E8F0FE;\n",
              "      border: none;\n",
              "      border-radius: 50%;\n",
              "      cursor: pointer;\n",
              "      display: none;\n",
              "      fill: #1967D2;\n",
              "      height: 32px;\n",
              "      padding: 0 0 0 0;\n",
              "      width: 32px;\n",
              "    }\n",
              "\n",
              "    .colab-df-convert:hover {\n",
              "      background-color: #E2EBFA;\n",
              "      box-shadow: 0px 1px 2px rgba(60, 64, 67, 0.3), 0px 1px 3px 1px rgba(60, 64, 67, 0.15);\n",
              "      fill: #174EA6;\n",
              "    }\n",
              "\n",
              "    [theme=dark] .colab-df-convert {\n",
              "      background-color: #3B4455;\n",
              "      fill: #D2E3FC;\n",
              "    }\n",
              "\n",
              "    [theme=dark] .colab-df-convert:hover {\n",
              "      background-color: #434B5C;\n",
              "      box-shadow: 0px 1px 3px 1px rgba(0, 0, 0, 0.15);\n",
              "      filter: drop-shadow(0px 1px 2px rgba(0, 0, 0, 0.3));\n",
              "      fill: #FFFFFF;\n",
              "    }\n",
              "  </style>\n",
              "\n",
              "      <script>\n",
              "        const buttonEl =\n",
              "          document.querySelector('#df-b7118477-9341-4fd8-b170-90a6b6568501 button.colab-df-convert');\n",
              "        buttonEl.style.display =\n",
              "          google.colab.kernel.accessAllowed ? 'block' : 'none';\n",
              "\n",
              "        async function convertToInteractive(key) {\n",
              "          const element = document.querySelector('#df-b7118477-9341-4fd8-b170-90a6b6568501');\n",
              "          const dataTable =\n",
              "            await google.colab.kernel.invokeFunction('convertToInteractive',\n",
              "                                                     [key], {});\n",
              "          if (!dataTable) return;\n",
              "\n",
              "          const docLinkHtml = 'Like what you see? Visit the ' +\n",
              "            '<a target=\"_blank\" href=https://colab.research.google.com/notebooks/data_table.ipynb>data table notebook</a>'\n",
              "            + ' to learn more about interactive tables.';\n",
              "          element.innerHTML = '';\n",
              "          dataTable['output_type'] = 'display_data';\n",
              "          await google.colab.output.renderOutput(dataTable, element);\n",
              "          const docLink = document.createElement('div');\n",
              "          docLink.innerHTML = docLinkHtml;\n",
              "          element.appendChild(docLink);\n",
              "        }\n",
              "      </script>\n",
              "    </div>\n",
              "  </div>\n",
              "  "
            ]
          },
          "metadata": {},
          "execution_count": 13
        }
      ]
    },
    {
      "cell_type": "code",
      "source": [
        "mean_absolute_errorA = sum(abs(requiredLabels - predictedLabels))/10000\n",
        "mean_squared_errorA = sum(pow((requiredLabels - predictedLabels), 2))/10000\n",
        "root_mean_squared_errorA = pow((sum(pow((requiredLabels - predictedLabels), 2))/10000), 0.5)\n",
        "print('Mean Absolute Error:', mean_absolute_errorA)\n",
        "print('Mean Squared Error:', mean_squared_errorA)\n",
        "print('Root Mean Squared Error:', root_mean_squared_errorA)"
      ],
      "metadata": {
        "colab": {
          "base_uri": "https://localhost:8080/"
        },
        "id": "o5u9ed_lgcPe",
        "outputId": "5f201383-ef98-4746-c7ae-5b8aa85d97fa"
      },
      "execution_count": null,
      "outputs": [
        {
          "output_type": "stream",
          "name": "stdout",
          "text": [
            "Mean Absolute Error: 1.4715549066535412\n",
            "Mean Squared Error: 3.344098126270502\n",
            "Root Mean Squared Error: 1.8286875420012305\n"
          ]
        }
      ]
    }
  ]
}