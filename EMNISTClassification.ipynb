{
  "cells": [
    {
      "cell_type": "markdown",
      "metadata": {
        "id": "view-in-github",
        "colab_type": "text"
      },
      "source": [
        "<a href=\"https://colab.research.google.com/github/divyansh351/ML-Bootcamp-WOC/blob/main/EMNISTClassification.ipynb\" target=\"_parent\"><img src=\"https://colab.research.google.com/assets/colab-badge.svg\" alt=\"Open In Colab\"/></a>"
      ]
    },
    {
      "cell_type": "markdown",
      "metadata": {
        "id": "uv7-juRImeuA"
      },
      "source": [
        "# **Logistic Regression (One vs All)**\n",
        "Dectecting handwritten letters from the Extended-MNIST dataset"
      ]
    },
    {
      "cell_type": "markdown",
      "metadata": {
        "id": "ryl4jknloGaa"
      },
      "source": [
        "### **Importing necessary libraries**"
      ]
    },
    {
      "cell_type": "code",
      "execution_count": null,
      "metadata": {
        "id": "uWpe_3-rTSyB"
      },
      "outputs": [],
      "source": [
        "import numpy as np\n",
        "import pandas as pd\n",
        "import matplotlib.pyplot as plt\n",
        "from math import sqrt\n",
        "import scipy.optimize as op  #used to optimize the theta by the fmincg function discussed in the Andrew NG's course"
      ]
    },
    {
      "cell_type": "markdown",
      "metadata": {
        "id": "ItwK7PsQtjWK"
      },
      "source": [
        "### **Defining Functions**"
      ]
    },
    {
      "cell_type": "markdown",
      "metadata": {
        "id": "UAndOaFqt8NG"
      },
      "source": [
        "**Sigmoid function -** The Hypothesis function for logistic regression"
      ]
    },
    {
      "cell_type": "code",
      "execution_count": null,
      "metadata": {
        "id": "F-vK-w03oV4m"
      },
      "outputs": [],
      "source": [
        "def sigmoid(z):\n",
        "  return 1.0/(1 + np.exp(-z))"
      ]
    },
    {
      "cell_type": "markdown",
      "metadata": {
        "id": "d6ylNsirusX8"
      },
      "source": [
        "**Prediction Function -** sigmoid(z), where z=(theta)T*X\n",
        "\n",
        "Also adding a set of bias features."
      ]
    },
    {
      "cell_type": "code",
      "execution_count": null,
      "metadata": {
        "id": "7Ygw9yG1iCIt"
      },
      "outputs": [],
      "source": [
        "def predictOneVsAll(all_theta, X):\n",
        "  m = X.shape[0]\n",
        "  #Add ones (bias feature) to the X data matrix along the second axis (columns).\n",
        "  X = np.c_[np.ones((m, 1)), X]\n",
        "  predictions = sigmoid(np.dot(X, all_theta.T))\n",
        "  \n",
        "  return np.argmax(predictions, axis=1)\n",
        "  #Returns the indices of the maximum value of the prediction function for the one vs all classifier.\n",
        "  #the index corresponds to the letter, 1-25 for A to Y and 0 for Z."
      ]
    },
    {
      "cell_type": "markdown",
      "metadata": {
        "id": "TJ_na2n4HeZX"
      },
      "source": [
        "**Logistic Regression Gradient Function -** (With Regularization), Vectorized form"
      ]
    },
    {
      "cell_type": "code",
      "execution_count": null,
      "metadata": {
        "id": "srxrb_vBi-JN"
      },
      "outputs": [],
      "source": [
        "def lrGradient(theta, X, y, reg_lambda, flattenResult=True):\n",
        "  m, n = X.shape  \n",
        "  theta = theta.reshape((n, 1))\n",
        "  prediction = sigmoid(np.dot(X, theta))\n",
        "  errors = np.subtract(prediction, y)\n",
        "  grad = (1.0/m) * np.dot(X.T, errors)\n",
        "\n",
        "  grad_with_regul = grad[1:] + (reg_lambda/m) * theta[1:]\n",
        "  firstRow = grad[0, :].reshape((1,1))\n",
        "  grad = np.r_[firstRow, grad_with_regul]\n",
        "  \n",
        "  if  flattenResult:    \n",
        "    return grad.flatten()\n",
        "  \n",
        "  return grad"
      ]
    },
    {
      "cell_type": "markdown",
      "metadata": {
        "id": "3cvo1fBrcRHA"
      },
      "source": [
        "**One Vs All Optimization Function -** Same as the fmincg function in the Andrew NG course (Reference: Internet)"
      ]
    },
    {
      "cell_type": "code",
      "execution_count": null,
      "metadata": {
        "id": "o0MNQG12hA5q"
      },
      "outputs": [],
      "source": [
        "def oneVsAll(X, y, num_labels, reg_lambda):\n",
        "  m, n = X.shape\n",
        "  #Defining theta matrix initially with size including the bias feature.\n",
        "  all_theta = np.zeros((num_labels, n + 1))\n",
        "  #Add ones (bias feature) to the X data matrix along the second axis (columns).\n",
        "  X = np.c_[np.ones((m, 1)), X]\n",
        "  \n",
        "  for c in range(num_labels):\n",
        "    print(\"Optimizing theta \", c)\n",
        "    #Setting Initial theta\n",
        "    initial_theta = np.zeros((n + 1, 1))\n",
        "            \n",
        "    # Run fmincg to obtain the optimal theta\n",
        "    Result = op.minimize(fun = lrCostFunction, x0 = initial_theta, args = (X, (y == c) * 1, reg_lambda), method = 'TNC', jac = lrGradient, options={'maxiter' : 45})\n",
        "    optimal_theta = Result.x\n",
        "    all_theta[c,:] =  optimal_theta\n",
        "      \n",
        "  return all_theta"
      ]
    },
    {
      "cell_type": "markdown",
      "metadata": {
        "id": "FW2JoHkEc7_S"
      },
      "source": [
        "**Cost Function for Logistic Regression -** (Regularized) Almost same as the Linear Regression cost function"
      ]
    },
    {
      "cell_type": "code",
      "execution_count": null,
      "metadata": {
        "id": "OFgVG_5wgmcg"
      },
      "outputs": [],
      "source": [
        "def lrCostFunction(theta, X, y, reg_lambda):\n",
        "  m, n = X.shape #number of training examples\n",
        "  theta = theta.reshape((n,1))\n",
        "  \n",
        "  prediction = sigmoid(X.dot(theta))\n",
        "\n",
        "  cost_y_1 = (1 - y) * np.log(1 - prediction)\n",
        "  cost_y_0 = -1 * y * np.log(prediction)\n",
        "\n",
        "  J = (1.0/m) * np.sum(cost_y_0 - cost_y_1) + (reg_lambda/(2.0 * m)) * np.sum(np.power(theta[1:], 2))\n",
        "  \n",
        "  return J"
      ]
    },
    {
      "cell_type": "markdown",
      "metadata": {
        "id": "sSMPUoMgdVkq"
      },
      "source": [
        "**Display Data Function -** To display the images of the handwritten letters using the Matplotlib library (Reference: Internet)"
      ]
    },
    {
      "cell_type": "code",
      "execution_count": null,
      "metadata": {
        "id": "PAy_GCHmjazT"
      },
      "outputs": [],
      "source": [
        "def displayData(X):     \n",
        "  print(X.shape)\n",
        "  m, n = X.shape\n",
        "  nbImagesPerRow = int(sqrt(m))\n",
        "  columnsCount = (28 + 2) * nbImagesPerRow\n",
        "  result = np.empty((0, columnsCount))\n",
        "  row = 0\n",
        "  while row < m:\n",
        "    new_row = np.empty((28, 0))\n",
        "    for col in range(nbImagesPerRow):\n",
        "      new_row = np.c_[new_row, X[row].reshape(28, 28).T]\n",
        "      new_row = np.c_[new_row, np.zeros((28,2))]\n",
        "      row = row + 1  \n",
        "    result = np.r_[result, new_row]\n",
        "    result = np.r_[result, np.zeros((1, columnsCount))]\n",
        "    \n",
        "  plt.imshow(result, cmap='gray', interpolation='nearest') "
      ]
    },
    {
      "cell_type": "markdown",
      "metadata": {
        "id": "Kxd1OU7Og0oP"
      },
      "source": [
        "### **Mounting G-Drive and Importing test and train datasets**"
      ]
    },
    {
      "cell_type": "code",
      "execution_count": null,
      "metadata": {
        "colab": {
          "base_uri": "https://localhost:8080/"
        },
        "id": "EImqfKfdlrBm",
        "outputId": "e7663efc-d289-4009-b328-0b2cecb1d3b3"
      },
      "outputs": [
        {
          "output_type": "stream",
          "name": "stdout",
          "text": [
            "Mounted at /content/drive\n",
            "/content/drive/MyDrive/cyberlabs/emnist_data\n"
          ]
        }
      ],
      "source": [
        "from google.colab import drive\n",
        "drive.mount('/content/drive')\n",
        "%cd /content/drive/MyDrive/cyberlabs/emnist_data\n",
        "train_path = '/content/drive/MyDrive/cyberlabs/emnist_data/emnist-letters-train.csv'\n",
        "test_path = '/content/drive/MyDrive/cyberlabs/emnist_data/emnist-letters-test.csv'\n",
        "df_train = pd.read_csv(train_path, header=None)\n",
        "df_test = pd.read_csv(test_path, header=None)"
      ]
    },
    {
      "cell_type": "code",
      "execution_count": null,
      "metadata": {
        "id": "lhEnm2NlCBUv"
      },
      "outputs": [],
      "source": [
        "input_layer_size=784\n",
        "num_labels=26"
      ]
    },
    {
      "cell_type": "markdown",
      "metadata": {
        "id": "Chqk6YKMiiO2"
      },
      "source": [
        "### **Pre-processing Training Data**"
      ]
    },
    {
      "cell_type": "code",
      "execution_count": null,
      "metadata": {
        "colab": {
          "base_uri": "https://localhost:8080/"
        },
        "id": "bDsH4ywLlirB",
        "outputId": "fa86fab5-a1b8-44ae-fdd2-b87d793fa834"
      },
      "outputs": [
        {
          "output_type": "stream",
          "name": "stdout",
          "text": [
            "Loading Data ...\n",
            "\n",
            "[[0 0 0 ... 0 0 0]\n",
            " [0 0 0 ... 0 0 0]\n",
            " [0 0 0 ... 0 0 0]\n",
            " ...\n",
            " [0 0 0 ... 0 0 0]\n",
            " [0 0 0 ... 0 0 0]\n",
            " [0 0 0 ... 0 0 0]] \n",
            "Shape - 88800 784 \n",
            "\n",
            "[[23]\n",
            " [ 7]\n",
            " [16]\n",
            " ...\n",
            " [ 1]\n",
            " [23]\n",
            " [12]] \n",
            "Shape - 88800 1\n"
          ]
        }
      ],
      "source": [
        "print('Loading Data ...\\n')\n",
        "X=df_train.drop([0], axis=1)\n",
        "X_train=X.to_numpy().astype('int')\n",
        "m,n=X_train.shape\n",
        "Y_train=df_train[0].to_numpy().astype('int').reshape(m,1)\n",
        "m1,n1=Y_train.shape\n",
        "print(X_train,'\\nShape -', m, n,'\\n')\n",
        "print(Y_train,'\\nShape -', m1, n1)\n",
        "Y_train = np.where(Y_train == 26, 0, Y_train)"
      ]
    },
    {
      "cell_type": "markdown",
      "metadata": {
        "id": "mHLsZjayi349"
      },
      "source": [
        "### **Visualizing Random Data**"
      ]
    },
    {
      "cell_type": "code",
      "execution_count": null,
      "metadata": {
        "colab": {
          "base_uri": "https://localhost:8080/",
          "height": 304
        },
        "id": "GJ9ZcaJp4Y3m",
        "outputId": "a5f8b782-96b0-41cf-eabb-960eb1b123b3"
      },
      "outputs": [
        {
          "output_type": "stream",
          "name": "stdout",
          "text": [
            "Visualizing Data ...\n",
            "(25, 784)\n"
          ]
        },
        {
          "output_type": "display_data",
          "data": {
            "text/plain": [
              "<Figure size 432x288 with 1 Axes>"
            ],
            "image/png": "[encoded data removed]"
          },
          "metadata": {
            "needs_background": "light"
          }
        }
      ],
      "source": [
        "print('Visualizing Data ...')\n",
        "rand_indices = np.random.choice(m, 25)\n",
        "displayData(X_train[rand_indices])\n",
        "plt.show(block=False)"
      ]
    },
    {
      "cell_type": "markdown",
      "metadata": {
        "id": "OzG4bj-jjKzD"
      },
      "source": [
        "### **Training the Model Along with Optimization using fmincg**"
      ]
    },
    {
      "cell_type": "code",
      "execution_count": null,
      "metadata": {
        "colab": {
          "base_uri": "https://localhost:8080/"
        },
        "id": "P-iiOyWJAo6S",
        "outputId": "fd8288f3-f1d9-496f-a0a4-2b97d74fda63"
      },
      "outputs": [
        {
          "output_type": "stream",
          "name": "stdout",
          "text": [
            "Training One-vs-All Logistic Regression...\n",
            "\n",
            "Optimizing theta  0\n",
            "Optimizing theta  1\n",
            "Optimizing theta  2\n",
            "Optimizing theta  3\n",
            "Optimizing theta  4\n",
            "Optimizing theta  5\n",
            "Optimizing theta  6\n",
            "Optimizing theta  7\n",
            "Optimizing theta  8\n",
            "Optimizing theta  9\n",
            "Optimizing theta  10\n",
            "Optimizing theta  11\n",
            "Optimizing theta  12\n",
            "Optimizing theta  13\n",
            "Optimizing theta  14\n",
            "Optimizing theta  15\n",
            "Optimizing theta  16\n",
            "Optimizing theta  17\n",
            "Optimizing theta  18\n",
            "Optimizing theta  19\n",
            "Optimizing theta  20\n",
            "Optimizing theta  22\n",
            "Optimizing theta  23\n",
            "Optimizing theta  24\n",
            "Optimizing theta  25\n"
          ]
        }
      ],
      "source": [
        "print('Training One-vs-All Logistic Regression...\\n')\n",
        "\n",
        "reg_lambda = 0.1\n",
        "all_theta = oneVsAll(X_train, Y_train, num_labels, reg_lambda)"
      ]
    },
    {
      "cell_type": "markdown",
      "metadata": {
        "id": "Qela0k-Xr7LR"
      },
      "source": [
        "### **Pre-processing Test Data**"
      ]
    },
    {
      "cell_type": "code",
      "execution_count": null,
      "metadata": {
        "colab": {
          "base_uri": "https://localhost:8080/"
        },
        "id": "0-yjipC9HmgS",
        "outputId": "f4e8c66c-8fe9-4948-8fe0-f712bb85c0d4"
      },
      "outputs": [
        {
          "output_type": "stream",
          "name": "stdout",
          "text": [
            "Loading Data ...\n",
            "\n",
            "[[0 0 0 ... 0 0 0]\n",
            " [0 0 0 ... 0 0 0]\n",
            " [0 0 0 ... 0 0 0]\n",
            " ...\n",
            " [0 0 0 ... 0 0 0]\n",
            " [0 0 0 ... 0 0 0]\n",
            " [0 0 0 ... 0 0 0]] \n",
            "Shape - 14800 784 \n",
            "\n",
            "[[ 1]\n",
            " [ 1]\n",
            " [ 1]\n",
            " ...\n",
            " [19]\n",
            " [19]\n",
            " [19]] \n",
            "Shape - 14800 1\n"
          ]
        }
      ],
      "source": [
        "print('Loading Data ...\\n')\n",
        "X=df_test.drop([0], axis=1)\n",
        "X_test=X.to_numpy().astype('int')\n",
        "mt,nt=X_test.shape\n",
        "Y_test=df_test[0].to_numpy().astype('int').reshape(mt,1)\n",
        "mt1,nt1=Y_test.shape\n",
        "print(X_test,'\\nShape -', mt, nt,'\\n')\n",
        "print(Y_test, '\\nShape -', mt1, nt1)\n",
        "Y_test = np.where(Y_test == 26, 0, Y_test) #Label of Z is 0 now instead of 26"
      ]
    },
    {
      "cell_type": "markdown",
      "metadata": {
        "id": "E0wauSSasJn7"
      },
      "source": [
        "### **Making Predictions on the Test Data**"
      ]
    },
    {
      "cell_type": "code",
      "execution_count": null,
      "metadata": {
        "colab": {
          "base_uri": "https://localhost:8080/",
          "height": 1000
        },
        "id": "RABXtnn2DRl8",
        "outputId": "e96d5b1f-e11e-4365-fef7-f33b8033b4e6"
      },
      "outputs": [
        {
          "output_type": "stream",
          "name": "stdout",
          "text": [
            "[ 6  3  2  9 18  3  9 13  3  7  1 16 17 17  2  7 12 10  2  3 10 19  5  5\n",
            "  7 12 13  4 16 19  5  7  1 15  3 17  4  3 12  6 14 11  3 13 10  4  8  9\n",
            "  8 12 12  4 18 14 14  1  6 18  3  3 11 16 10 16]\n",
            "training Set Accuracy::  68.58108108108108 %\n",
            "\n",
            "Displaying Example Image\n",
            "\n",
            "(1, 784)\n"
          ]
        },
        {
          "output_type": "display_data",
          "data": {
            "text/plain": [
              "<Figure size 432x288 with 1 Axes>"
            ],
            "image/png": "[encoded data removed]"
          },
          "metadata": {
            "needs_background": "light"
          }
        },
        {
          "output_type": "stream",
          "name": "stdout",
          "text": [
            "\n",
            "One-vs-all classification for the handwritten Letter dataset prediction:  L\n",
            "Paused - press enter to continue, q to exit:\n",
            "\n",
            "Displaying Example Image\n",
            "\n",
            "(1, 784)\n"
          ]
        },
        {
          "output_type": "display_data",
          "data": {
            "text/plain": [
              "<Figure size 432x288 with 1 Axes>"
            ],
            "image/png": "[encoded data removed]"
          },
          "metadata": {
            "needs_background": "light"
          }
        },
        {
          "output_type": "stream",
          "name": "stdout",
          "text": [
            "\n",
            "One-vs-all classification for the handwritten Letter dataset prediction:  J\n",
            "Paused - press enter to continue, q to exit:\n",
            "\n",
            "Displaying Example Image\n",
            "\n",
            "(1, 784)\n"
          ]
        },
        {
          "output_type": "display_data",
          "data": {
            "text/plain": [
              "<Figure size 432x288 with 1 Axes>"
            ],
            "image/png": "[encoded data removed]"
          },
          "metadata": {
            "needs_background": "light"
          }
        },
        {
          "output_type": "stream",
          "name": "stdout",
          "text": [
            "\n",
            "One-vs-all classification for the handwritten Letter dataset prediction:  M\n",
            "Paused - press enter to continue, q to exit:\n",
            "\n",
            "Displaying Example Image\n",
            "\n",
            "(1, 784)\n"
          ]
        },
        {
          "output_type": "display_data",
          "data": {
            "text/plain": [
              "<Figure size 432x288 with 1 Axes>"
            ],
            "image/png": "[encoded data removed]"
          },
          "metadata": {
            "needs_background": "light"
          }
        },
        {
          "output_type": "stream",
          "name": "stdout",
          "text": [
            "\n",
            "One-vs-all classification for the handwritten Letter dataset prediction:  F\n",
            "Paused - press enter to continue, q to exit:\n",
            "\n",
            "Displaying Example Image\n",
            "\n",
            "(1, 784)\n"
          ]
        },
        {
          "output_type": "display_data",
          "data": {
            "text/plain": [
              "<Figure size 432x288 with 1 Axes>"
            ],
            "image/png": "[encoded data removed]"
          },
          "metadata": {
            "needs_background": "light"
          }
        },
        {
          "name": "stdout",
          "output_type": "stream",
          "text": [
            "\n",
            "One-vs-all classification for the handwritten Letter dataset prediction:  O\n",
            "Paused - press enter to continue, q to exit:\n"
          ]
        }
      ],
      "source": [
        "p = predictOneVsAll(all_theta, X_test)\n",
        "y = Y_test.reshape((mt))\n",
        "\n",
        "rand_indices2 = np.random.choice(mt, 64)\n",
        "print(y[rand_indices2])\n",
        "Y_comp=pd.DataFrame(p, columns=['Predicted'])\n",
        "print(\"training Set Accuracy:: \", np.multiply(np.mean((p == y).astype(int)), 100), '%')\n",
        "\n",
        "rand_indices3 = np.random.choice(mt, 5)\n",
        "\n",
        "for i in range(5):\n",
        "  # Display \n",
        "  print('\\nDisplaying Example Image\\n')\n",
        "  imageData = X_train[rand_indices3[i]].reshape(784, 1).T\n",
        "  displayData(imageData)\n",
        "  plt.show(block=False)\n",
        "  pred = predictOneVsAll(all_theta, imageData)\n",
        "  if(pred==0):\n",
        "    predLtr='Z'\n",
        "  else:\n",
        "    predLtr=chr(64+pred)\n",
        "  print('\\nOne-vs-all classification for the handwritten Letter dataset prediction: ', predLtr)\n",
        "\n",
        "  # Pause with quit option\n",
        "  s = input('Paused - press enter to continue, q to exit:')\n",
        "  if s == 'q':\n",
        "    break"
      ]
    }
  ],
  "metadata": {
    "colab": {
      "collapsed_sections": [],
      "name": "EMNISTClassification.ipynb",
      "provenance": [],
      "authorship_tag": "ABX9TyMce/ZY+fEY8MmNHlY5WORA",
      "include_colab_link": true
    },
    "kernelspec": {
      "display_name": "Python 3",
      "name": "python3"
    },
    "language_info": {
      "name": "python"
    }
  },
  "nbformat": 4,
  "nbformat_minor": 0
}