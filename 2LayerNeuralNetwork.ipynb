{
  "nbformat": 4,
  "nbformat_minor": 0,
  "metadata": {
    "colab": {
      "name": "2LayerNeuralNetwork.ipynb",
      "provenance": [],
      "authorship_tag": "ABX9TyPe2AuFny4VcR+ZeeV5AiWi",
      "include_colab_link": true
    },
    "kernelspec": {
      "name": "python3",
      "display_name": "Python 3"
    },
    "language_info": {
      "name": "python"
    }
  },
  "cells": [
    {
      "cell_type": "markdown",
      "metadata": {
        "id": "view-in-github",
        "colab_type": "text"
      },
      "source": [
        "<a href=\"https://colab.research.google.com/github/divyansh351/ML-Bootcamp-WOC/blob/main/2LayerNeuralNetwork.ipynb\" target=\"_parent\"><img src=\"https://colab.research.google.com/assets/colab-badge.svg\" alt=\"Open In Colab\"/></a>"
      ]
    },
    {
      "cell_type": "code",
      "execution_count": 1,
      "metadata": {
        "colab": {
          "base_uri": "https://localhost:8080/"
        },
        "id": "jM7eXm5ttpKn",
        "outputId": "ee3fb80c-4560-4d0d-c408-24f341c89e7f"
      },
      "outputs": [
        {
          "output_type": "stream",
          "name": "stdout",
          "text": [
            "Drive already mounted at /content/drive; to attempt to forcibly remount, call drive.mount(\"/content/drive\", force_remount=True).\n"
          ]
        }
      ],
      "source": [
        "import numpy as np\n",
        "import pandas as pd\n",
        "import math\n",
        "import matplotlib.pyplot as plt\n",
        "from google.colab import drive\n",
        "drive.mount('/content/drive')"
      ]
    },
    {
      "cell_type": "code",
      "source": [
        "%cd /content/drive/MyDrive/cyberlabs/emnist_data2\n",
        "train_path = '/content/drive/MyDrive/cyberlabs/emnist_data2/emnist-letters-train.csv'\n",
        "test_path = '/content/drive/MyDrive/cyberlabs/emnist_data2/emnist-letters-test.csv'\n",
        "df_train = pd.read_csv(train_path, header=None)\n",
        "df_test = pd.read_csv(test_path, header=None)"
      ],
      "metadata": {
        "colab": {
          "base_uri": "https://localhost:8080/"
        },
        "id": "8mqEMclOt2YV",
        "outputId": "21bec44b-efc0-4be1-e4da-8e057e939dd8"
      },
      "execution_count": 2,
      "outputs": [
        {
          "output_type": "stream",
          "name": "stdout",
          "text": [
            "/content/drive/MyDrive/cyberlabs/emnist_data2\n"
          ]
        }
      ]
    },
    {
      "cell_type": "code",
      "source": [
        "print('Loading Data ...\\n')\n",
        "X=df_train.drop([0], axis=1)\n",
        "X_train=X.to_numpy().astype('float64')\n",
        "X_train = X_train/255.0\n",
        "m,n=X_train.shape\n",
        "X_train = X_train.T\n",
        "Y_train=df_train[0].to_numpy().astype('int').reshape(1, m)\n",
        "m1,n1=Y_train.shape\n",
        "print(X_train,'\\nShape -', m, n,'\\n')\n",
        "print(Y_train,'\\nShape -', m1, n1)\n",
        "Y_train = Y_train - 1"
      ],
      "metadata": {
        "colab": {
          "base_uri": "https://localhost:8080/"
        },
        "id": "EOb2101nt3us",
        "outputId": "6be6877b-bf8d-4ac4-e7ac-8e7fabc91026"
      },
      "execution_count": 3,
      "outputs": [
        {
          "output_type": "stream",
          "name": "stdout",
          "text": [
            "Loading Data ...\n",
            "\n",
            "[[0. 0. 0. ... 0. 0. 0.]\n",
            " [0. 0. 0. ... 0. 0. 0.]\n",
            " [0. 0. 0. ... 0. 0. 0.]\n",
            " ...\n",
            " [0. 0. 0. ... 0. 0. 0.]\n",
            " [0. 0. 0. ... 0. 0. 0.]\n",
            " [0. 0. 0. ... 0. 0. 0.]] \n",
            "Shape - 64783 784 \n",
            "\n",
            "[[ 1  1  1 ... 19 19 19]] \n",
            "Shape - 1 64783\n"
          ]
        }
      ]
    },
    {
      "cell_type": "code",
      "source": [
        "print('Loading Data ...\\n')\n",
        "X=df_test.drop([0], axis=1)\n",
        "X_test=X.to_numpy().astype('float64')\n",
        "X_test = X_test/255.0\n",
        "mt,nt=X_test.shape\n",
        "X_test = X_test.T\n",
        "Y_test=df_test[0].to_numpy().astype('int').reshape(1, mt)\n",
        "mt1,nt1=Y_test.shape\n",
        "print(X_test,'\\nShape -', mt, nt,'\\n')\n",
        "print(Y_test, '\\nShape -', mt1, nt1)\n",
        "Y_test = Y_test - 1"
      ],
      "metadata": {
        "colab": {
          "base_uri": "https://localhost:8080/"
        },
        "id": "WTCvjxh2t9Gf",
        "outputId": "47dcdacd-b1b8-4f95-92fc-d5474c5d74ce"
      },
      "execution_count": 4,
      "outputs": [
        {
          "output_type": "stream",
          "name": "stdout",
          "text": [
            "Loading Data ...\n",
            "\n",
            "[[0. 0. 0. ... 0. 0. 0.]\n",
            " [0. 0. 0. ... 0. 0. 0.]\n",
            " [0. 0. 0. ... 0. 0. 0.]\n",
            " ...\n",
            " [0. 0. 0. ... 0. 0. 0.]\n",
            " [0. 0. 0. ... 0. 0. 0.]\n",
            " [0. 0. 0. ... 0. 0. 0.]] \n",
            "Shape - 14800 784 \n",
            "\n",
            "[[ 1  1  1 ... 19 19 19]] \n",
            "Shape - 1 14800\n"
          ]
        }
      ]
    },
    {
      "cell_type": "code",
      "source": [
        "def init_params():\n",
        "    W1 = np.random.rand(25, 784) - 0.5\n",
        "    b1 = np.random.rand(25, 1) - 0.5\n",
        "    W2 = np.random.rand(25, 25) - 0.5\n",
        "    b2 = np.random.rand(25, 1) - 0.5\n",
        "    W3 = np.random.rand(19, 25) - 0.5\n",
        "    b3 = np.random.rand(19, 1) - 0.5\n",
        "    return W1, b1, W2, b2, W3, b3\n",
        "\n",
        "def ReLU(Z):\n",
        "    return np.maximum(Z, 0)\n",
        "\n",
        "def softmax(Z):\n",
        "    A = np.exp(Z) / sum(np.exp(Z))\n",
        "    return A\n",
        "    \n",
        "def forward_prop(W1, b1, W2, b2, W3, b3, X):\n",
        "    Z1 = W1.dot(X) + b1\n",
        "    A1 = ReLU(Z1)\n",
        "    Z2 = W2.dot(A1) + b2\n",
        "    A2 = softmax(Z2)\n",
        "    Z3 = W3.dot(A2) + b3\n",
        "    A3 = softmax(Z3)\n",
        "    return Z1, A1, Z2, A2, Z3, A3\n",
        "\n",
        "def ReLU_deriv(Z):\n",
        "    return Z > 0\n",
        "\n",
        "def one_hot(Y):\n",
        "    one_hot_Y = np.zeros((Y.size, Y.max() + 1))\n",
        "    one_hot_Y[np.arange(Y.size), Y] = 1\n",
        "    one_hot_Y = one_hot_Y.T\n",
        "    return one_hot_Y\n",
        "\n",
        "def backward_prop(Z1, A1, Z2, A2, Z3, A3, W1, W2, W3, X, Y):\n",
        "    one_hot_Y = one_hot(Y)\n",
        "    dZ3 = A3 - one_hot_Y\n",
        "    dW3 = 1 / m * dZ3.dot(A2.T)\n",
        "    db3 = 1 / m * np.sum(dZ3)\n",
        "    dZ2 = W3.T.dot(dZ3) * ReLU_deriv(Z2)\n",
        "    dW2 = 1 / m * dZ2.dot(A1.T)\n",
        "    db2 = 1 / m * np.sum(dZ2)\n",
        "    dZ1 = W2.T.dot(dZ2) * ReLU_deriv(Z1)\n",
        "    dW1 = 1 / m * dZ1.dot(X.T)\n",
        "    db1 = 1 / m * np.sum(dZ1)\n",
        "    return dW1, db1, dW2, db2, dW3, db3\n",
        "\n",
        "def update_params(W1, b1, W2, b2, W3, b3, dW1, db1, dW2, db2, dW3, db3, alpha):\n",
        "    W1 = W1 - alpha * dW1\n",
        "    b1 = b1 - alpha * db1    \n",
        "    W2 = W2 - alpha * dW2  \n",
        "    b2 = b2 - alpha * db2\n",
        "    W3 = W3 - alpha * dW3\n",
        "    b3 = b3 - alpha * db3    \n",
        "    return W1, b1, W2, b2, W3, b3"
      ],
      "metadata": {
        "id": "NgN-mB2ruBo7"
      },
      "execution_count": 13,
      "outputs": []
    },
    {
      "cell_type": "code",
      "source": [
        "def get_predictions(A3):\n",
        "    return np.argmax(A3, 0)\n",
        "\n",
        "def get_accuracy(predictions, Y):\n",
        "    print(predictions, Y)\n",
        "    return np.sum(predictions == Y) / Y.size\n",
        "\n",
        "def gradient_descent(X, Y, alpha, iterations):\n",
        "    W1, b1, W2, b2, W3, b3 = init_params()\n",
        "    for i in range(iterations):\n",
        "        Z1, A1, Z2, A2, Z3, A3 = forward_prop(W1, b1, W2, b2, W3, b3, X)\n",
        "        dW1, db1, dW2, db2, dW3, db3 = backward_prop(Z1, A1, Z2, A2, Z3, A3, W1, W2, W3, X, Y)\n",
        "        W1, b1, W2, b2, W3, b3 = update_params(W1, b1, W2, b2, W3, b3, dW1, db1, dW2, db2, dW3, db3, alpha)\n",
        "        if i % 50 == 0:\n",
        "            print(\"Iteration: \", i)\n",
        "            predictions = get_predictions(A2)\n",
        "            print(get_accuracy(predictions, Y))\n",
        "    return W1, b1, W2, b2, W3, b3"
      ],
      "metadata": {
        "id": "YS5LNYWrw50I"
      },
      "execution_count": 22,
      "outputs": []
    },
    {
      "cell_type": "code",
      "source": [
        "W1, b1, W2, b2, W3, b3 = gradient_descent(X_train, Y_train, 0.005, 501)"
      ],
      "metadata": {
        "colab": {
          "base_uri": "https://localhost:8080/"
        },
        "id": "0EBLO3zCxnlo",
        "outputId": "e21cb5a3-eed5-4a56-fc78-a205844a5dd6"
      },
      "execution_count": 24,
      "outputs": [
        {
          "output_type": "stream",
          "name": "stdout",
          "text": [
            "Iteration:  0\n",
            "[17 17 17 ... 17  6 24] [[ 0  0  0 ... 18 18 18]]\n",
            "0.03584273652038343\n",
            "Iteration:  50\n",
            "[17 17 17 ... 17  6 24] [[ 0  0  0 ... 18 18 18]]\n",
            "0.03466958924409182\n",
            "Iteration:  100\n",
            "[17 17 17 ... 23  6 24] [[ 0  0  0 ... 18 18 18]]\n",
            "0.03371254804501181\n",
            "Iteration:  150\n",
            "[17 17 17 ... 23  6 17] [[ 0  0  0 ... 18 18 18]]\n",
            "0.03267832610407051\n",
            "Iteration:  200\n",
            "[17 17 17 ... 23  6 17] [[ 0  0  0 ... 18 18 18]]\n",
            "0.03144343423428986\n",
            "Iteration:  250\n",
            "[17 17 17 ... 23  6 17] [[ 0  0  0 ... 18 18 18]]\n",
            "0.030640754518932434\n",
            "Iteration:  300\n",
            "[17 17 17 ... 23  6 17] [[ 0  0  0 ... 18 18 18]]\n",
            "0.029236065017056945\n",
            "Iteration:  350\n",
            "[17 17 17 ... 23  6 17] [[ 0  0  0 ... 18 18 18]]\n",
            "0.02776963092169242\n",
            "Iteration:  400\n",
            "[17 17 17 ... 23  6 17] [[ 0  0  0 ... 18 18 18]]\n",
            "0.02551595325934273\n",
            "Iteration:  450\n",
            "[17 17 17 ... 23  6 23] [[ 0  0  0 ... 18 18 18]]\n",
            "0.023941466125372398\n",
            "Iteration:  500\n",
            "[16 17 17 ... 23  6 23] [[ 0  0  0 ... 18 18 18]]\n",
            "0.02313878641001497\n"
          ]
        }
      ]
    }
  ]
}