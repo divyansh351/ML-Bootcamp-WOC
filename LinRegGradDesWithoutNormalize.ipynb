{
  "nbformat": 4,
  "nbformat_minor": 0,
  "metadata": {
    "colab": {
      "name": "LinRegGradDesWithoutNormalize.ipynb",
      "provenance": [],
      "collapsed_sections": [],
      "authorship_tag": "ABX9TyN13e+Y3FxmIF24bLIXpwb2",
      "include_colab_link": true
    },
    "kernelspec": {
      "name": "python3",
      "display_name": "Python 3"
    },
    "language_info": {
      "name": "python"
    }
  },
  "cells": [
    {
      "cell_type": "markdown",
      "metadata": {
        "id": "view-in-github",
        "colab_type": "text"
      },
      "source": [
        "<a href=\"https://colab.research.google.com/github/divyansh351/ML-Bootcamp-WOC/blob/main/LinRegGradDesWithoutNormalize.ipynb\" target=\"_parent\"><img src=\"https://colab.research.google.com/assets/colab-badge.svg\" alt=\"Open In Colab\"/></a>"
      ]
    },
    {
      "cell_type": "markdown",
      "source": [
        "# **Linear Regression**\n",
        "Gradient Descent Model"
      ],
      "metadata": {
        "id": "kzC_9z9mDIke"
      }
    },
    {
      "cell_type": "markdown",
      "source": [
        "### ***Importing necessary libraries***\n",
        "\n",
        "### ***Mounting Google drive to read data***"
      ],
      "metadata": {
        "id": "lUcHQuAeDeo3"
      }
    },
    {
      "cell_type": "code",
      "execution_count": 1,
      "metadata": {
        "colab": {
          "base_uri": "https://localhost:8080/"
        },
        "id": "5EMxqpkFuf1J",
        "outputId": "c1fe7ed2-e3cf-40f7-814b-0384b698c1b0"
      },
      "outputs": [
        {
          "output_type": "stream",
          "name": "stdout",
          "text": [
            "Mounted at /content/drive\n"
          ]
        }
      ],
      "source": [
        "import numpy as np\n",
        "import pandas as pd\n",
        "import math\n",
        "import matplotlib.pyplot as plt\n",
        "from google.colab import drive\n",
        "drive.mount('/content/drive')"
      ]
    },
    {
      "cell_type": "code",
      "source": [
        "%cd /content/drive/MyDrive/cyberlabs/linear_data\n",
        "train_path = '/content/drive/MyDrive/cyberlabs/linear_data/Linear_train.csv'\n",
        "test_path = '/content/drive/MyDrive/cyberlabs/linear_data/Linear_test.csv'\n",
        "df_train = pd.read_csv(train_path)\n",
        "df_test = pd.read_csv(test_path)"
      ],
      "metadata": {
        "colab": {
          "base_uri": "https://localhost:8080/"
        },
        "id": "SqoZM-iZu7HD",
        "outputId": "3adb0a54-71f4-48d5-dad6-2e97302d18c1"
      },
      "execution_count": 2,
      "outputs": [
        {
          "output_type": "stream",
          "name": "stdout",
          "text": [
            "/content/drive/MyDrive/cyberlabs/linear_data\n"
          ]
        }
      ]
    },
    {
      "cell_type": "markdown",
      "source": [
        "*Dropping the unnecessary columns from the dataset*"
      ],
      "metadata": {
        "id": "Q8khVjgVD0sZ"
      }
    },
    {
      "cell_type": "code",
      "source": [
        "train = df_train.drop([\"Unnamed: 0\"], axis = 1)\n",
        "test = df_test.drop([\"Unnamed: 0\"], axis = 1)"
      ],
      "metadata": {
        "id": "CMuKd6r5u_K-"
      },
      "execution_count": 3,
      "outputs": []
    },
    {
      "cell_type": "markdown",
      "source": [
        "### ***Normalizing the dataset***\n",
        "\n",
        "Normalizing helps the gradient discend to converge at a much faster rate with lesser number of iterations and a reasonable learning rate"
      ],
      "metadata": {
        "id": "ZlqIsoabEEt1"
      }
    },
    {
      "cell_type": "code",
      "source": [
        "def normalizeData(dataFrame):\n",
        "    return (dataFrame - np.min(dataFrame)) / (np.max(dataFrame) - np.min(dataFrame))"
      ],
      "metadata": {
        "id": "wsFnyM9Jgl8q"
      },
      "execution_count": 4,
      "outputs": []
    },
    {
      "cell_type": "code",
      "source": [
        "#train = normalizeData(train)\n",
        "#test = normalizeData(test)"
      ],
      "metadata": {
        "id": "K7HENhsWgt3n"
      },
      "execution_count": 5,
      "outputs": []
    },
    {
      "cell_type": "markdown",
      "source": [
        "### ***Separating Fabels and Features***"
      ],
      "metadata": {
        "id": "SN0x7ZTVgDj8"
      }
    },
    {
      "cell_type": "code",
      "source": [
        "trainData = train.values\n",
        "Y = trainData[:, -1].reshape(trainData.shape[0], 1)\n",
        "X = trainData[:, :-1]\n",
        "\n",
        "testData = test.values\n",
        "Y_test = testData[:, -1].reshape(testData.shape[0], 1)\n",
        "X_test = testData[:, :-1]\n",
        "\n",
        "print(\"Dimensions of Training and Testing Datasets\")\n",
        "print(\"X_train :\", X.shape)\n",
        "print(\"Y_train :\", Y.shape)\n",
        "print(\"X_test :\", X_test.shape)\n",
        "print(\"Y_test :\", Y_test.shape)"
      ],
      "metadata": {
        "id": "4FxFFY13gCro",
        "colab": {
          "base_uri": "https://localhost:8080/"
        },
        "outputId": "faa99595-374f-407b-cfa0-362a5092e4a9"
      },
      "execution_count": 6,
      "outputs": [
        {
          "output_type": "stream",
          "name": "stdout",
          "text": [
            "Dimensions of Training and Testing Datasets\n",
            "X_train : (50000, 20)\n",
            "Y_train : (50000, 1)\n",
            "X_test : (10000, 20)\n",
            "Y_test : (10000, 1)\n"
          ]
        }
      ]
    },
    {
      "cell_type": "markdown",
      "source": [
        "### ***Adding a set of bias features in the first column of the dataset***"
      ],
      "metadata": {
        "id": "CQeZqPy4HJTs"
      }
    },
    {
      "cell_type": "code",
      "source": [
        "X = np.vstack((np.ones((X.shape[0], )), X.T)).T\n",
        "X_test = np.vstack((np.ones((X_test.shape[0], )), X_test.T)).T"
      ],
      "metadata": {
        "id": "KgwZCp4DCqg8"
      },
      "execution_count": 7,
      "outputs": []
    },
    {
      "cell_type": "markdown",
      "source": [
        "### ***Defining gradient descent function for the model***"
      ],
      "metadata": {
        "id": "xQCXjFQqHfjH"
      }
    },
    {
      "cell_type": "code",
      "source": [
        "def GradDes(X, Y, alpha, iter):\n",
        "  m = Y.size\n",
        "  theta = np.zeros((X.shape[1], 1))\n",
        "  costList = []\n",
        "  for i in range(iter):\n",
        "    y_pred = np.dot(X, theta)\n",
        "    cost = (1/(2*m))*np.sum(np.square(y_pred - Y))\n",
        "    d_theta = (1/m)*np.dot(X.T, y_pred - Y)\n",
        "    theta = theta - alpha*d_theta\n",
        "    costList.append(cost)\n",
        "    if(i%(iter/10) == 0):\n",
        "      print(\"Cost after\", i, \"iterations:\", cost)\n",
        "      \n",
        "  return theta, costList"
      ],
      "metadata": {
        "id": "aPFM1c7xMBjy"
      },
      "execution_count": 8,
      "outputs": []
    },
    {
      "cell_type": "markdown",
      "source": [
        "### ***Using the function to get the cost***"
      ],
      "metadata": {
        "id": "N-nldw5HHz1q"
      }
    },
    {
      "cell_type": "code",
      "source": [
        "iter = 200000\n",
        "alpha = 0.00000005\n",
        "theta, costList = GradDes(X, Y, alpha = alpha, iter = iter)"
      ],
      "metadata": {
        "colab": {
          "base_uri": "https://localhost:8080/"
        },
        "id": "bQZcoHaHMZ-x",
        "outputId": "3dcdf2da-2928-4a2b-b395-6ccf87f8fea7"
      },
      "execution_count": 23,
      "outputs": [
        {
          "output_type": "stream",
          "name": "stdout",
          "text": [
            "Cost after 0 iterations: 13398388.663990432\n",
            "Cost after 20000 iterations: 2308939.953718848\n",
            "Cost after 40000 iterations: 438303.69537501835\n",
            "Cost after 60000 iterations: 84519.57028887283\n",
            "Cost after 80000 iterations: 17558.351327621494\n",
            "Cost after 100000 iterations: 4874.62080489116\n",
            "Cost after 120000 iterations: 2470.194145392293\n",
            "Cost after 140000 iterations: 2014.0325213877054\n",
            "Cost after 160000 iterations: 1927.4221251666975\n",
            "Cost after 180000 iterations: 1910.9645319845315\n"
          ]
        }
      ]
    },
    {
      "cell_type": "markdown",
      "source": [
        "*Here we observe that the cost has almost stopped to decrease after 1000 iterations, this suggests that the model is working fine and will give a fairly accurate prediction.*"
      ],
      "metadata": {
        "id": "NFnnoBgjIPd4"
      }
    },
    {
      "cell_type": "code",
      "source": [
        "rng = np.arange(0, iter)\n",
        "plt.plot(rng, costList)\n",
        "plt.show()"
      ],
      "metadata": {
        "colab": {
          "base_uri": "https://localhost:8080/",
          "height": 276
        },
        "id": "hBLT2io4limN",
        "outputId": "3a7561d1-8478-4b53-eaab-a952102f1568"
      },
      "execution_count": 24,
      "outputs": [
        {
          "output_type": "display_data",
          "data": {
            "text/plain": [
              "<Figure size 432x288 with 1 Axes>"
            ],
            "image/png": "[encoded data removed]"
          },
          "metadata": {
            "needs_background": "light"
          }
        }
      ]
    },
    {
      "cell_type": "markdown",
      "source": [
        "### ***The normalized weights of the different features are listed below***"
      ],
      "metadata": {
        "id": "iss_214vIvsd"
      }
    },
    {
      "cell_type": "code",
      "source": [
        "theta"
      ],
      "metadata": {
        "colab": {
          "base_uri": "https://localhost:8080/"
        },
        "id": "cRFuVK05Qnl_",
        "outputId": "07436a32-a993-4baf-8c7f-ab4eaddad173"
      },
      "execution_count": 20,
      "outputs": [
        {
          "output_type": "execute_result",
          "data": {
            "text/plain": [
              "array([[ 1.73691096e-03],\n",
              "       [ 1.28089042e+01],\n",
              "       [ 1.98731222e-01],\n",
              "       [-2.65363897e+01],\n",
              "       [ 7.80341034e+00],\n",
              "       [ 3.65058581e+01],\n",
              "       [ 1.51273315e-01],\n",
              "       [ 1.86660856e+01],\n",
              "       [-2.85410929e+01],\n",
              "       [ 1.19952712e-01],\n",
              "       [ 2.25688356e+01],\n",
              "       [ 3.06091649e+01],\n",
              "       [ 5.98840604e-01],\n",
              "       [-8.96072556e+01],\n",
              "       [ 3.34500346e+01],\n",
              "       [ 4.42848157e+01],\n",
              "       [ 5.01860743e+01],\n",
              "       [ 2.36014062e+01],\n",
              "       [-9.88927622e-01],\n",
              "       [ 9.34981905e+01],\n",
              "       [ 2.45658782e+01]])"
            ]
          },
          "metadata": {},
          "execution_count": 20
        }
      ]
    },
    {
      "cell_type": "markdown",
      "source": [
        "### ***Using the weights to predict the normalized test dataset***"
      ],
      "metadata": {
        "id": "8__94uGbJI7f"
      }
    },
    {
      "cell_type": "code",
      "source": [
        "y_pred = np.dot(X_test, theta)"
      ],
      "metadata": {
        "id": "pKV__pzHQ4Z2"
      },
      "execution_count": 25,
      "outputs": []
    },
    {
      "cell_type": "code",
      "source": [
        "Y_test"
      ],
      "metadata": {
        "colab": {
          "base_uri": "https://localhost:8080/"
        },
        "id": "VClWeO9yWw_S",
        "outputId": "871ae021-2faf-4d05-fa68-6557978bd70b"
      },
      "execution_count": 13,
      "outputs": [
        {
          "output_type": "execute_result",
          "data": {
            "text/plain": [
              "array([[ -163.52272341],\n",
              "       [ 6484.66451042],\n",
              "       [ 2393.81808186],\n",
              "       ...,\n",
              "       [-1404.204034  ],\n",
              "       [ 1972.37171111],\n",
              "       [-6120.24877236]])"
            ]
          },
          "metadata": {},
          "execution_count": 13
        }
      ]
    },
    {
      "cell_type": "code",
      "source": [
        "y_pred"
      ],
      "metadata": {
        "colab": {
          "base_uri": "https://localhost:8080/"
        },
        "id": "HQoO4M42Wsug",
        "outputId": "1dcbafef-0ad2-4ecf-866b-eff9eb19e672"
      },
      "execution_count": 26,
      "outputs": [
        {
          "output_type": "execute_result",
          "data": {
            "text/plain": [
              "array([[ -161.48303512],\n",
              "       [ 6481.39118349],\n",
              "       [ 2396.83774027],\n",
              "       ...,\n",
              "       [-1402.07883579],\n",
              "       [ 1976.17970196],\n",
              "       [-6117.7585235 ]])"
            ]
          },
          "metadata": {},
          "execution_count": 26
        }
      ]
    },
    {
      "cell_type": "markdown",
      "source": [
        "### ***Calculating the accuracy of the model***"
      ],
      "metadata": {
        "id": "Y5Rtp6v-JfEF"
      }
    },
    {
      "cell_type": "code",
      "source": [
        "def meanAbsoluteError(actual, predicted):\n",
        "  return sum(actual - predicted)/len(actual)"
      ],
      "metadata": {
        "id": "wnjyncGPj0He"
      },
      "execution_count": 15,
      "outputs": []
    },
    {
      "cell_type": "code",
      "source": [
        "def meanSquaredError(actual, predicted):\n",
        "  return sum(np.square(actual - predicted))/len(actual)"
      ],
      "metadata": {
        "id": "OLDJ2m7beKRb"
      },
      "execution_count": 16,
      "outputs": []
    },
    {
      "cell_type": "code",
      "source": [
        "def rootMeanSquaredError(actual, predicted):\n",
        "  return math.sqrt(meanSquaredError(actual, predicted))"
      ],
      "metadata": {
        "id": "U295nCZmfp_2"
      },
      "execution_count": 17,
      "outputs": []
    },
    {
      "cell_type": "code",
      "source": [
        "def r2Score(actual, predicted):\n",
        "  return 1 - sum(np.square(actual - predicted))/sum(np.square(actual - np.mean(actual)))"
      ],
      "metadata": {
        "id": "eqNGTlMMloNb"
      },
      "execution_count": 18,
      "outputs": []
    },
    {
      "cell_type": "code",
      "source": [
        "MAE = meanAbsoluteError(Y_test, y_pred)\n",
        "MSE = meanSquaredError(Y_test, y_pred)\n",
        "RMSE = rootMeanSquaredError(Y_test, y_pred)\n",
        "R2S = r2Score(Y_test, y_pred)\n",
        "print(\"Mean Absolute Error:\", MAE)\n",
        "print(\"Mean Squared Error:\", MSE)\n",
        "print(\"Root Mean Squared Error:\", RMSE)\n",
        "print(\"R2 Score:\", R2S)"
      ],
      "metadata": {
        "colab": {
          "base_uri": "https://localhost:8080/"
        },
        "id": "Uby6vw1MghNE",
        "outputId": "e7c29d45-e819-46cb-90d9-8bbd468dfa4c"
      },
      "execution_count": 27,
      "outputs": [
        {
          "output_type": "stream",
          "name": "stdout",
          "text": [
            "Mean Absolute Error: [-0.38656038]\n",
            "Mean Squared Error: [5.59268267]\n",
            "Root Mean Squared Error: 2.364885340689703\n",
            "R2 Score: [0.99999977]\n"
          ]
        }
      ]
    }
  ]
}