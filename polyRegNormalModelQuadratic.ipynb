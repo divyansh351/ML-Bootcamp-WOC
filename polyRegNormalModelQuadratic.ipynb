{
  "nbformat": 4,
  "nbformat_minor": 0,
  "metadata": {
    "colab": {
      "name": "polyRegNormalModelQuadratic.ipynb",
      "provenance": [],
      "authorship_tag": "ABX9TyNYBQg7aF1w2+r4CriSDLGA",
      "include_colab_link": true
    },
    "kernelspec": {
      "name": "python3",
      "display_name": "Python 3"
    },
    "language_info": {
      "name": "python"
    }
  },
  "cells": [
    {
      "cell_type": "markdown",
      "metadata": {
        "id": "view-in-github",
        "colab_type": "text"
      },
      "source": [
        "<a href=\"https://colab.research.google.com/github/divyansh351/ML-Bootcamp-WOC/blob/main/polyRegNormalModelQuadratic.ipynb\" target=\"_parent\"><img src=\"https://colab.research.google.com/assets/colab-badge.svg\" alt=\"Open In Colab\"/></a>"
      ]
    },
    {
      "cell_type": "markdown",
      "source": [
        "# ***Polynomial Regression Normal Model with Quadratic features***"
      ],
      "metadata": {
        "id": "80BOo1JVFIoT"
      }
    },
    {
      "cell_type": "markdown",
      "source": [
        "### ***Importing necessary libraries and dataset*** "
      ],
      "metadata": {
        "id": "NXEVjLxGEvqe"
      }
    },
    {
      "cell_type": "code",
      "execution_count": 1,
      "metadata": {
        "colab": {
          "base_uri": "https://localhost:8080/"
        },
        "id": "hM8Nsc2tS4tO",
        "outputId": "8be50dae-e17a-40e5-ba63-097c06a474e9"
      },
      "outputs": [
        {
          "output_type": "stream",
          "name": "stdout",
          "text": [
            "Drive already mounted at /content/drive; to attempt to forcibly remount, call drive.mount(\"/content/drive\", force_remount=True).\n"
          ]
        }
      ],
      "source": [
        "import numpy as np\n",
        "import pandas as pd\n",
        "import math\n",
        "import matplotlib.pyplot as plt\n",
        "from google.colab import drive\n",
        "drive.mount('/content/drive')"
      ]
    },
    {
      "cell_type": "code",
      "source": [
        "%cd /content/drive/MyDrive/cyberlabs/polynomial_data\n",
        "train_path = '/content/drive/MyDrive/cyberlabs/polynomial_data/Polynomial_train.csv'\n",
        "test_path = '/content/drive/MyDrive/cyberlabs/polynomial_data/Polynomial_test.csv'\n",
        "df_train = pd.read_csv(train_path)\n",
        "df_test = pd.read_csv(test_path)"
      ],
      "metadata": {
        "colab": {
          "base_uri": "https://localhost:8080/"
        },
        "id": "X04E--QKTAri",
        "outputId": "8e442cf8-b8f5-40b0-979d-e01219eec668"
      },
      "execution_count": 2,
      "outputs": [
        {
          "output_type": "stream",
          "name": "stdout",
          "text": [
            "/content/drive/MyDrive/cyberlabs/polynomial_data\n"
          ]
        }
      ]
    },
    {
      "cell_type": "markdown",
      "source": [
        "### ***Preprocessing the dataset and adding quadratic features***"
      ],
      "metadata": {
        "id": "fASXgLS8FB9r"
      }
    },
    {
      "cell_type": "code",
      "source": [
        "X_train = df_train.drop(df_train.columns[[0, 4]], axis=1)\n",
        "X_test = df_test.drop(df_test.columns[[0, 4]], axis=1)"
      ],
      "metadata": {
        "id": "VSXd8Ks-TD6J"
      },
      "execution_count": 3,
      "outputs": []
    },
    {
      "cell_type": "code",
      "source": [
        "trainData=df_train.values\n",
        "Y_train = trainData[:, -1].reshape(trainData.shape[0], 1)\n",
        "testData=df_test.values\n",
        "Y_test = testData[:, -1].reshape(testData.shape[0], 1)"
      ],
      "metadata": {
        "id": "4CrY2NguTG3E"
      },
      "execution_count": 4,
      "outputs": []
    },
    {
      "cell_type": "code",
      "source": [
        "X_train['X2']=X_train['X']*X_train['X']\n",
        "X_train['Y2']=X_train['Y']*X_train['Y']\n",
        "X_train['Z2']=X_train['Z']*X_train['Z']\n",
        "X_train['XY']=X_train['X']*X_train['Y']\n",
        "X_train['YZ']=X_train['X']*X_train['X']\n",
        "X_train['ZX']=X_train['Z']*X_train['X']"
      ],
      "metadata": {
        "id": "V_91mwPvTLib"
      },
      "execution_count": 5,
      "outputs": []
    },
    {
      "cell_type": "code",
      "source": [
        "X_test['X2']=X_test['X']*X_test['X']\n",
        "X_test['Y2']=X_test['Y']*X_test['Y']\n",
        "X_test['Z2']=X_test['Z']*X_test['Z']\n",
        "X_test['XY']=X_test['X']*X_test['Y']\n",
        "X_test['YZ']=X_test['X']*X_test['X']\n",
        "X_test['ZX']=X_test['Z']*X_test['X']"
      ],
      "metadata": {
        "id": "fQZX92HMTS1h"
      },
      "execution_count": 6,
      "outputs": []
    },
    {
      "cell_type": "code",
      "source": [
        "X_train = np.vstack((np.ones((X_train.shape[0], )), X_train.T)).T\n",
        "X_test = np.vstack((np.ones((X_test.shape[0], )), X_test.T)).T"
      ],
      "metadata": {
        "id": "NI_wHTIMTaIc"
      },
      "execution_count": 7,
      "outputs": []
    },
    {
      "cell_type": "markdown",
      "source": [
        "### ***Running the algorithm***"
      ],
      "metadata": {
        "id": "7oYUUFjUFi9y"
      }
    },
    {
      "cell_type": "code",
      "source": [
        "x = X_train\n",
        "xT = np.transpose(x)\n",
        "xT_x = np.dot(xT, x)\n",
        "xT_xInv = np.linalg.pinv(xT_x)\n",
        "tmp = np.dot(xT_xInv, xT)\n",
        "thetaArr = np.dot(tmp, df_train[\"label\"])\n",
        "thetaArr"
      ],
      "metadata": {
        "colab": {
          "base_uri": "https://localhost:8080/"
        },
        "id": "LKUPek0HTa4l",
        "outputId": "70e68ba9-5f84-49b5-f42b-a84cd3c7ff48"
      },
      "execution_count": 8,
      "outputs": [
        {
          "output_type": "execute_result",
          "data": {
            "text/plain": [
              "array([ -0.39728671,  -0.22804904,   0.22472448,  -0.08837848,\n",
              "         0.51951822,  -5.03788431,   4.03181485, -32.01822225,\n",
              "         0.51951822, -14.08308677])"
            ]
          },
          "metadata": {},
          "execution_count": 8
        }
      ]
    },
    {
      "cell_type": "markdown",
      "source": [
        "### ***Predicting Labels***"
      ],
      "metadata": {
        "id": "8E7cipTSFsyy"
      }
    },
    {
      "cell_type": "code",
      "source": [
        "predictedLabels = np.dot(X_test, thetaArr)\n",
        "predictedLabels = predictedLabels.reshape(10000, 1)\n",
        "predictedLabels"
      ],
      "metadata": {
        "colab": {
          "base_uri": "https://localhost:8080/"
        },
        "id": "BBxBpFoXUTT6",
        "outputId": "a3071d17-00d3-4c57-a230-a4736ab0964e"
      },
      "execution_count": 9,
      "outputs": [
        {
          "output_type": "execute_result",
          "data": {
            "text/plain": [
              "array([[ -678.11470806],\n",
              "       [ -823.23481312],\n",
              "       [  303.15809538],\n",
              "       ...,\n",
              "       [-1991.94998119],\n",
              "       [   15.28078252],\n",
              "       [  -60.52314877]])"
            ]
          },
          "metadata": {},
          "execution_count": 9
        }
      ]
    },
    {
      "cell_type": "code",
      "source": [
        "Y_test"
      ],
      "metadata": {
        "colab": {
          "base_uri": "https://localhost:8080/"
        },
        "id": "YFxtwhqWUbBG",
        "outputId": "ab824a1e-5722-4a65-aa1d-c670aa8aa579"
      },
      "execution_count": 10,
      "outputs": [
        {
          "output_type": "execute_result",
          "data": {
            "text/plain": [
              "array([[ -657.66930949],\n",
              "       [ -545.36252395],\n",
              "       [  -75.04418664],\n",
              "       ...,\n",
              "       [-1771.64069421],\n",
              "       [  -22.74692118],\n",
              "       [  -64.85344575]])"
            ]
          },
          "metadata": {},
          "execution_count": 10
        }
      ]
    },
    {
      "cell_type": "code",
      "source": [
        "def meanAbsoluteError(actual, predicted):\n",
        "  return sum(abs(actual - predicted))/len(actual)\n",
        "\n",
        "def meanSquaredError(actual, predicted):\n",
        "  return sum(np.square(actual - predicted))/len(actual)\n",
        "\n",
        "def rootMeanSquaredError(actual, predicted):\n",
        "  return math.sqrt(meanSquaredError(actual, predicted))\n",
        "\n",
        "def r2Score(actual, predicted):\n",
        "  return 1 - sum(abs(np.square(actual - predicted)))/sum(abs(np.square(actual - np.mean(actual))))"
      ],
      "metadata": {
        "id": "IORSagFGU-K9"
      },
      "execution_count": 11,
      "outputs": []
    },
    {
      "cell_type": "code",
      "source": [
        "MAE = meanAbsoluteError(Y_test, predictedLabels)\n",
        "MSE = meanSquaredError(Y_test, predictedLabels)\n",
        "RMSE = rootMeanSquaredError(Y_test, predictedLabels)\n",
        "R2S = r2Score(Y_test, predictedLabels)\n",
        "print(\"Mean Absolute Error:\", MAE)\n",
        "print(\"Mean Squared Error:\", MSE)\n",
        "print(\"Root Mean Squared Error:\", RMSE)\n",
        "print(\"R2 Score:\", R2S)"
      ],
      "metadata": {
        "colab": {
          "base_uri": "https://localhost:8080/"
        },
        "id": "PN9qVCRJU_Iv",
        "outputId": "8e2956ac-c9be-44e2-95a4-09c6d3ea2e26"
      },
      "execution_count": 12,
      "outputs": [
        {
          "output_type": "stream",
          "name": "stdout",
          "text": [
            "Mean Absolute Error: [174.94085125]\n",
            "Mean Squared Error: [54378.08163765]\n",
            "Root Mean Squared Error: 233.19108395830236\n",
            "R2 Score: [0.96259342]\n"
          ]
        }
      ]
    }
  ]
}