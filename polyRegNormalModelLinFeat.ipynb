{
  "nbformat": 4,
  "nbformat_minor": 0,
  "metadata": {
    "colab": {
      "name": "polyRegNormalModelLinFeat.ipynb",
      "provenance": [],
      "authorship_tag": "ABX9TyPKy83tT2KqRQC2x7hOXBFY",
      "include_colab_link": true
    },
    "kernelspec": {
      "name": "python3",
      "display_name": "Python 3"
    },
    "language_info": {
      "name": "python"
    }
  },
  "cells": [
    {
      "cell_type": "markdown",
      "metadata": {
        "id": "view-in-github",
        "colab_type": "text"
      },
      "source": [
        "<a href=\"https://colab.research.google.com/github/divyansh351/ML-Bootcamp-WOC/blob/main/polyRegNormalModelLinFeat.ipynb\" target=\"_parent\"><img src=\"https://colab.research.google.com/assets/colab-badge.svg\" alt=\"Open In Colab\"/></a>"
      ]
    },
    {
      "cell_type": "markdown",
      "source": [
        "# ***Polynomial Regression Normal Model with Linear features***"
      ],
      "metadata": {
        "id": "XAXvOC2DJ4EE"
      }
    },
    {
      "cell_type": "markdown",
      "source": [
        "### ***Importing necessary libraries and dataset***"
      ],
      "metadata": {
        "id": "i2swzhPxKJjg"
      }
    },
    {
      "cell_type": "code",
      "execution_count": 1,
      "metadata": {
        "colab": {
          "base_uri": "https://localhost:8080/"
        },
        "id": "ogK35wU2H4UH",
        "outputId": "6a935665-2310-46ef-a0f9-a2d5e151d22e"
      },
      "outputs": [
        {
          "output_type": "stream",
          "name": "stdout",
          "text": [
            "Mounted at /content/drive\n"
          ]
        }
      ],
      "source": [
        "import numpy as np\n",
        "import pandas as pd\n",
        "import math\n",
        "import matplotlib.pyplot as plt\n",
        "from google.colab import drive\n",
        "drive.mount('/content/drive')"
      ]
    },
    {
      "cell_type": "code",
      "source": [
        "%cd /content/drive/MyDrive/cyberlabs/polynomial_data\n",
        "train_path = '/content/drive/MyDrive/cyberlabs/polynomial_data/Polynomial_train.csv'\n",
        "test_path = '/content/drive/MyDrive/cyberlabs/polynomial_data/Polynomial_test.csv'\n",
        "df_train = pd.read_csv(train_path)\n",
        "df_test = pd.read_csv(test_path)"
      ],
      "metadata": {
        "colab": {
          "base_uri": "https://localhost:8080/"
        },
        "id": "1nZgz7bCIept",
        "outputId": "0e8433bd-9543-49e4-b199-207a5c4a9b61"
      },
      "execution_count": 2,
      "outputs": [
        {
          "output_type": "stream",
          "name": "stdout",
          "text": [
            "/content/drive/MyDrive/cyberlabs/polynomial_data\n"
          ]
        }
      ]
    },
    {
      "cell_type": "markdown",
      "source": [
        "### ***Preprocessing the dataset***"
      ],
      "metadata": {
        "id": "qwT-pLt3KTws"
      }
    },
    {
      "cell_type": "code",
      "source": [
        "X_train = df_train.drop(df_train.columns[[0, 4]], axis=1)\n",
        "X_test = df_test.drop(df_test.columns[[0, 4]], axis=1)"
      ],
      "metadata": {
        "id": "Z4tMzCacIj7b"
      },
      "execution_count": 3,
      "outputs": []
    },
    {
      "cell_type": "code",
      "source": [
        "trainData=df_train.values\n",
        "Y_train = trainData[:, -1].reshape(trainData.shape[0], 1)\n",
        "testData=df_test.values\n",
        "Y_test = testData[:, -1].reshape(testData.shape[0], 1)"
      ],
      "metadata": {
        "id": "aa-GPgw3IoT5"
      },
      "execution_count": 4,
      "outputs": []
    },
    {
      "cell_type": "code",
      "source": [
        "X_train = np.vstack((np.ones((X_train.shape[0], )), X_train.T)).T\n",
        "X_test = np.vstack((np.ones((X_test.shape[0], )), X_test.T)).T"
      ],
      "metadata": {
        "id": "WZ80X3chIrdS"
      },
      "execution_count": 5,
      "outputs": []
    },
    {
      "cell_type": "markdown",
      "source": [
        "### ***Running the algorithm***"
      ],
      "metadata": {
        "id": "03JLrhayKd5x"
      }
    },
    {
      "cell_type": "code",
      "source": [
        "x = X_train\n",
        "xT = np.transpose(x)\n",
        "xT_x = np.dot(xT, x)\n",
        "xT_xInv = np.linalg.pinv(xT_x)\n",
        "tmp = np.dot(xT_xInv, xT)\n",
        "thetaArr = np.dot(tmp, df_train[\"label\"])\n",
        "thetaArr"
      ],
      "metadata": {
        "colab": {
          "base_uri": "https://localhost:8080/"
        },
        "id": "pZVuonXgIxrr",
        "outputId": "255a055e-eb3a-4dcc-abef-6d76b73b0248"
      },
      "execution_count": 6,
      "outputs": [
        {
          "output_type": "execute_result",
          "data": {
            "text/plain": [
              "array([13.19465117,  1.68884616, -0.05236499,  0.33991762])"
            ]
          },
          "metadata": {},
          "execution_count": 6
        }
      ]
    },
    {
      "cell_type": "markdown",
      "source": [
        "### ***Predicting Labels***"
      ],
      "metadata": {
        "id": "2oxa-U6dKobL"
      }
    },
    {
      "cell_type": "code",
      "source": [
        "predictedLabels = np.dot(X_test, thetaArr)\n",
        "predictedLabels = predictedLabels.reshape(10000, 1)\n",
        "predictedLabels"
      ],
      "metadata": {
        "colab": {
          "base_uri": "https://localhost:8080/"
        },
        "id": "pwhtTEEnIyjd",
        "outputId": "5a679707-03ef-4c40-866d-3d32ffd7ea66"
      },
      "execution_count": 7,
      "outputs": [
        {
          "output_type": "execute_result",
          "data": {
            "text/plain": [
              "array([[30.95089   ],\n",
              "       [19.80397197],\n",
              "       [ 5.92237616],\n",
              "       ...,\n",
              "       [25.58439482],\n",
              "       [ 1.21739544],\n",
              "       [27.92779037]])"
            ]
          },
          "metadata": {},
          "execution_count": 7
        }
      ]
    },
    {
      "cell_type": "code",
      "source": [
        "Y_test"
      ],
      "metadata": {
        "colab": {
          "base_uri": "https://localhost:8080/"
        },
        "id": "GGVGak7_I4gU",
        "outputId": "c4dc4848-8718-4e8e-b0f2-b44fca1ade1f"
      },
      "execution_count": 8,
      "outputs": [
        {
          "output_type": "execute_result",
          "data": {
            "text/plain": [
              "array([[ -657.66930949],\n",
              "       [ -545.36252395],\n",
              "       [  -75.04418664],\n",
              "       ...,\n",
              "       [-1771.64069421],\n",
              "       [  -22.74692118],\n",
              "       [  -64.85344575]])"
            ]
          },
          "metadata": {},
          "execution_count": 8
        }
      ]
    },
    {
      "cell_type": "code",
      "source": [
        "def meanAbsoluteError(actual, predicted):\n",
        "  return sum(abs(actual - predicted))/len(actual)\n",
        "\n",
        "def meanSquaredError(actual, predicted):\n",
        "  return sum(np.square(actual - predicted))/len(actual)\n",
        "\n",
        "def rootMeanSquaredError(actual, predicted):\n",
        "  return math.sqrt(meanSquaredError(actual, predicted))\n",
        "\n",
        "def r2Score(actual, predicted):\n",
        "  return 1 - sum(abs(np.square(actual - predicted)))/sum(abs(np.square(actual - np.mean(actual))))"
      ],
      "metadata": {
        "id": "yL56UhRmI8Hw"
      },
      "execution_count": 9,
      "outputs": []
    },
    {
      "cell_type": "code",
      "source": [
        "MAE = meanAbsoluteError(Y_test, predictedLabels)\n",
        "MSE = meanSquaredError(Y_test, predictedLabels)\n",
        "RMSE = rootMeanSquaredError(Y_test, predictedLabels)\n",
        "R2S = r2Score(Y_test, predictedLabels)\n",
        "print(\"Mean Absolute Error:\", MAE)\n",
        "print(\"Mean Squared Error:\", MSE)\n",
        "print(\"Root Mean Squared Error:\", RMSE)\n",
        "print(\"R2 Score:\", R2S)"
      ],
      "metadata": {
        "colab": {
          "base_uri": "https://localhost:8080/"
        },
        "id": "9pbNJKvkI9O5",
        "outputId": "f294c623-ae45-4224-f2b6-8aac0ed4286b"
      },
      "execution_count": 10,
      "outputs": [
        {
          "output_type": "stream",
          "name": "stdout",
          "text": [
            "Mean Absolute Error: [876.13794906]\n",
            "Mean Squared Error: [1454181.62144485]\n",
            "Root Mean Squared Error: 1205.894531642319\n",
            "R2 Score: [-0.00032883]\n"
          ]
        }
      ]
    }
  ]
}