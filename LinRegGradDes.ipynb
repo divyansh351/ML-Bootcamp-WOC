{
  "nbformat": 4,
  "nbformat_minor": 0,
  "metadata": {
    "colab": {
      "name": "LinRegGradDes.ipynb",
      "provenance": [],
      "collapsed_sections": [],
      "authorship_tag": "ABX9TyNMdicg4gDugpwqRVu7tTHR",
      "include_colab_link": true
    },
    "kernelspec": {
      "name": "python3",
      "display_name": "Python 3"
    },
    "language_info": {
      "name": "python"
    }
  },
  "cells": [
    {
      "cell_type": "markdown",
      "metadata": {
        "id": "view-in-github",
        "colab_type": "text"
      },
      "source": [
        "<a href=\"https://colab.research.google.com/github/divyansh351/ML-Bootcamp-WOC/blob/main/LinRegGradDes.ipynb\" target=\"_parent\"><img src=\"https://colab.research.google.com/assets/colab-badge.svg\" alt=\"Open In Colab\"/></a>"
      ]
    },
    {
      "cell_type": "markdown",
      "source": [
        "# **Linear Regression**\n",
        "Gradient Descent Model"
      ],
      "metadata": {
        "id": "kzC_9z9mDIke"
      }
    },
    {
      "cell_type": "markdown",
      "source": [
        "### ***Importing necessary libraries***\n",
        "\n",
        "### ***Mounting Google drive to read data***"
      ],
      "metadata": {
        "id": "lUcHQuAeDeo3"
      }
    },
    {
      "cell_type": "code",
      "execution_count": 1,
      "metadata": {
        "colab": {
          "base_uri": "https://localhost:8080/"
        },
        "id": "5EMxqpkFuf1J",
        "outputId": "b0d36a8f-7889-4f7c-bdd5-1d2a854cebb4"
      },
      "outputs": [
        {
          "output_type": "stream",
          "name": "stdout",
          "text": [
            "Drive already mounted at /content/drive; to attempt to forcibly remount, call drive.mount(\"/content/drive\", force_remount=True).\n"
          ]
        }
      ],
      "source": [
        "import numpy as np\n",
        "import pandas as pd\n",
        "import math\n",
        "import matplotlib.pyplot as plt\n",
        "from google.colab import drive\n",
        "drive.mount('/content/drive')"
      ]
    },
    {
      "cell_type": "code",
      "source": [
        "%cd /content/drive/MyDrive/cyberlabs/linear_data\n",
        "train_path = '/content/drive/MyDrive/cyberlabs/linear_data/Linear_train.csv'\n",
        "test_path = '/content/drive/MyDrive/cyberlabs/linear_data/Linear_test.csv'\n",
        "df_train = pd.read_csv(train_path)\n",
        "df_test = pd.read_csv(test_path)"
      ],
      "metadata": {
        "colab": {
          "base_uri": "https://localhost:8080/"
        },
        "id": "SqoZM-iZu7HD",
        "outputId": "1cd243c4-58b5-460c-f043-aaee64476763"
      },
      "execution_count": 2,
      "outputs": [
        {
          "output_type": "stream",
          "name": "stdout",
          "text": [
            "/content/drive/MyDrive/cyberlabs/linear_data\n"
          ]
        }
      ]
    },
    {
      "cell_type": "markdown",
      "source": [
        "*Dropping the unnecessary columns from the dataset*"
      ],
      "metadata": {
        "id": "Q8khVjgVD0sZ"
      }
    },
    {
      "cell_type": "code",
      "source": [
        "train = df_train.drop([\"Unnamed: 0\"], axis = 1)\n",
        "test = df_test.drop([\"Unnamed: 0\"], axis = 1)"
      ],
      "metadata": {
        "id": "CMuKd6r5u_K-"
      },
      "execution_count": 3,
      "outputs": []
    },
    {
      "cell_type": "markdown",
      "source": [
        "### ***Normalizing the dataset***\n",
        "\n",
        "Normalizing helps the gradient discend to converge at a much faster rate with lesser number of iterations and a reasonable learning rate"
      ],
      "metadata": {
        "id": "ZlqIsoabEEt1"
      }
    },
    {
      "cell_type": "code",
      "source": [
        "def normalizeData(dataFrame):\n",
        "    return (dataFrame - np.min(dataFrame)) / (np.max(dataFrame) - np.min(dataFrame))"
      ],
      "metadata": {
        "id": "wsFnyM9Jgl8q"
      },
      "execution_count": 4,
      "outputs": []
    },
    {
      "cell_type": "code",
      "source": [
        "train = normalizeData(train)\n",
        "test = normalizeData(test)"
      ],
      "metadata": {
        "id": "K7HENhsWgt3n"
      },
      "execution_count": 5,
      "outputs": []
    },
    {
      "cell_type": "markdown",
      "source": [
        "### ***Separating Fabels and Features***"
      ],
      "metadata": {
        "id": "SN0x7ZTVgDj8"
      }
    },
    {
      "cell_type": "code",
      "source": [
        "trainData = train.values\n",
        "Y = trainData[:, -1].reshape(trainData.shape[0], 1)\n",
        "X = trainData[:, :-1]\n",
        "\n",
        "testData = test.values\n",
        "Y_test = testData[:, -1].reshape(testData.shape[0], 1)\n",
        "X_test = testData[:, :-1]\n",
        "\n",
        "print(\"Dimensions of Training and Testing Datasets\")\n",
        "print(\"X_train :\", X.shape)\n",
        "print(\"Y_train :\", Y.shape)\n",
        "print(\"X_test :\", X_test.shape)\n",
        "print(\"Y_test :\", Y_test.shape)"
      ],
      "metadata": {
        "id": "4FxFFY13gCro",
        "colab": {
          "base_uri": "https://localhost:8080/"
        },
        "outputId": "4edadcd4-9de0-4c1f-83c3-58e2cb5bba31"
      },
      "execution_count": 6,
      "outputs": [
        {
          "output_type": "stream",
          "name": "stdout",
          "text": [
            "Dimensions of Training and Testing Datasets\n",
            "X_train : (50000, 20)\n",
            "Y_train : (50000, 1)\n",
            "X_test : (10000, 20)\n",
            "Y_test : (10000, 1)\n"
          ]
        }
      ]
    },
    {
      "cell_type": "markdown",
      "source": [
        "### ***Adding a set of bias features in the first column of the dataset***"
      ],
      "metadata": {
        "id": "CQeZqPy4HJTs"
      }
    },
    {
      "cell_type": "code",
      "source": [
        "X = np.vstack((np.ones((X.shape[0], )), X.T)).T\n",
        "X_test = np.vstack((np.ones((X_test.shape[0], )), X_test.T)).T"
      ],
      "metadata": {
        "id": "KgwZCp4DCqg8"
      },
      "execution_count": 7,
      "outputs": []
    },
    {
      "cell_type": "markdown",
      "source": [
        "### ***Defining gradient descent function for the model***"
      ],
      "metadata": {
        "id": "xQCXjFQqHfjH"
      }
    },
    {
      "cell_type": "code",
      "source": [
        "def GradDes(X, Y, alpha, iter):\n",
        "  m = Y.size\n",
        "  theta = np.zeros((X.shape[1], 1))\n",
        "  costList = []\n",
        "  for i in range(iter):\n",
        "    y_pred = np.dot(X, theta)\n",
        "    cost = (1/(2*m))*np.sum(np.square(y_pred - Y))\n",
        "    d_theta = (1/m)*np.dot(X.T, y_pred - Y)\n",
        "    theta = theta - alpha*d_theta\n",
        "    costList.append(cost)\n",
        "    if(i%(iter/10) == 0):\n",
        "      print(\"Cost after\", i, \"iterations:\", cost)\n",
        "      \n",
        "  return theta, costList"
      ],
      "metadata": {
        "id": "aPFM1c7xMBjy"
      },
      "execution_count": 8,
      "outputs": []
    },
    {
      "cell_type": "markdown",
      "source": [
        "### ***Using the function to get the cost***"
      ],
      "metadata": {
        "id": "N-nldw5HHz1q"
      }
    },
    {
      "cell_type": "code",
      "source": [
        "iter = 1000\n",
        "alpha = 0.3\n",
        "theta, costList = GradDes(X, Y, alpha = alpha, iter = iter)"
      ],
      "metadata": {
        "colab": {
          "base_uri": "https://localhost:8080/"
        },
        "id": "bQZcoHaHMZ-x",
        "outputId": "c4d56b9d-b58f-4a79-d770-cad3cf0eb24e"
      },
      "execution_count": 9,
      "outputs": [
        {
          "output_type": "stream",
          "name": "stdout",
          "text": [
            "Cost after 0 iterations: 0.13368343512225278\n",
            "Cost after 100 iterations: 6.890296725690669e-05\n",
            "Cost after 200 iterations: 5.291807630850126e-06\n",
            "Cost after 300 iterations: 2.921119143324872e-06\n",
            "Cost after 400 iterations: 2.071322853913808e-06\n",
            "Cost after 500 iterations: 1.6943204828656143e-06\n",
            "Cost after 600 iterations: 1.526314341967607e-06\n",
            "Cost after 700 iterations: 1.4514379908938024e-06\n",
            "Cost after 800 iterations: 1.4180673174610233e-06\n",
            "Cost after 900 iterations: 1.4031947726392637e-06\n"
          ]
        }
      ]
    },
    {
      "cell_type": "markdown",
      "source": [
        "*Here we observe that the cost has almost stopped to decrease after 1000 iterations, this suggests that the model is working fine and will give a fairly accurate prediction.*"
      ],
      "metadata": {
        "id": "NFnnoBgjIPd4"
      }
    },
    {
      "cell_type": "code",
      "source": [
        "rng = np.arange(0, iter)\n",
        "plt.plot(rng, costList)\n",
        "plt.show()"
      ],
      "metadata": {
        "colab": {
          "base_uri": "https://localhost:8080/",
          "height": 269
        },
        "id": "hBLT2io4limN",
        "outputId": "d5a1df76-8aa9-4e42-b580-ddce15dd93fd"
      },
      "execution_count": 10,
      "outputs": [
        {
          "output_type": "display_data",
          "data": {
            "text/plain": [
              "<Figure size 432x288 with 1 Axes>"
            ],
            "image/png": "[encoded data removed]"
          },
          "metadata": {
            "needs_background": "light"
          }
        }
      ]
    },
    {
      "cell_type": "markdown",
      "source": [
        "### ***The normalized weights of the different features are listed below***"
      ],
      "metadata": {
        "id": "iss_214vIvsd"
      }
    },
    {
      "cell_type": "code",
      "source": [
        "theta"
      ],
      "metadata": {
        "colab": {
          "base_uri": "https://localhost:8080/"
        },
        "id": "cRFuVK05Qnl_",
        "outputId": "33c959b3-8579-4036-b3bc-ed9b857eabeb"
      },
      "execution_count": 11,
      "outputs": [
        {
          "output_type": "execute_result",
          "data": {
            "text/plain": [
              "array([[ 0.13108643],\n",
              "       [ 0.03684529],\n",
              "       [ 0.00547706],\n",
              "       [-0.07289112],\n",
              "       [ 0.02180088],\n",
              "       [ 0.10005218],\n",
              "       [ 0.00821187],\n",
              "       [ 0.05138782],\n",
              "       [-0.08192398],\n",
              "       [ 0.00331829],\n",
              "       [ 0.06519795],\n",
              "       [ 0.08417674],\n",
              "       [ 0.00816037],\n",
              "       [-0.24569993],\n",
              "       [ 0.0919302 ],\n",
              "       [ 0.12762954],\n",
              "       [ 0.13786239],\n",
              "       [ 0.06491502],\n",
              "       [-0.00265208],\n",
              "       [ 0.2684792 ],\n",
              "       [ 0.0678712 ]])"
            ]
          },
          "metadata": {},
          "execution_count": 11
        }
      ]
    },
    {
      "cell_type": "markdown",
      "source": [
        "### ***Using the weights to predict the normalized test dataset***"
      ],
      "metadata": {
        "id": "8__94uGbJI7f"
      }
    },
    {
      "cell_type": "code",
      "source": [
        "y_pred = np.dot(X_test, theta)"
      ],
      "metadata": {
        "id": "pKV__pzHQ4Z2"
      },
      "execution_count": 12,
      "outputs": []
    },
    {
      "cell_type": "code",
      "source": [
        "Y_test"
      ],
      "metadata": {
        "colab": {
          "base_uri": "https://localhost:8080/"
        },
        "id": "VClWeO9yWw_S",
        "outputId": "3e7938ca-c7f5-48b5-9c4a-1c8c2c021553"
      },
      "execution_count": 13,
      "outputs": [
        {
          "output_type": "execute_result",
          "data": {
            "text/plain": [
              "array([[0.45927488],\n",
              "       [0.64466997],\n",
              "       [0.53059033],\n",
              "       ...,\n",
              "       [0.42467654],\n",
              "       [0.51883764],\n",
              "       [0.29316227]])"
            ]
          },
          "metadata": {},
          "execution_count": 13
        }
      ]
    },
    {
      "cell_type": "code",
      "source": [
        "y_pred"
      ],
      "metadata": {
        "colab": {
          "base_uri": "https://localhost:8080/"
        },
        "id": "HQoO4M42Wsug",
        "outputId": "cd041f1f-4954-45bc-9532-88c4d9378871"
      },
      "execution_count": 14,
      "outputs": [
        {
          "output_type": "execute_result",
          "data": {
            "text/plain": [
              "array([[0.45297171],\n",
              "       [0.63703413],\n",
              "       [0.51583027],\n",
              "       ...,\n",
              "       [0.41413165],\n",
              "       [0.50463644],\n",
              "       [0.28890545]])"
            ]
          },
          "metadata": {},
          "execution_count": 14
        }
      ]
    },
    {
      "cell_type": "markdown",
      "source": [
        "### ***Calculating the accuracy of the model***"
      ],
      "metadata": {
        "id": "Y5Rtp6v-JfEF"
      }
    },
    {
      "cell_type": "code",
      "source": [
        "def meanAbsoluteError(actual, predicted):\n",
        "  return sum(actual - predicted)/len(actual)"
      ],
      "metadata": {
        "id": "wnjyncGPj0He"
      },
      "execution_count": 15,
      "outputs": []
    },
    {
      "cell_type": "code",
      "source": [
        "def meanSquaredError(actual, predicted):\n",
        "  return sum(np.square(actual - predicted))/len(actual)"
      ],
      "metadata": {
        "id": "OLDJ2m7beKRb"
      },
      "execution_count": 16,
      "outputs": []
    },
    {
      "cell_type": "code",
      "source": [
        "def rootMeanSquaredError(actual, predicted):\n",
        "  return math.sqrt(meanSquaredError(actual, predicted))"
      ],
      "metadata": {
        "id": "U295nCZmfp_2"
      },
      "execution_count": 17,
      "outputs": []
    },
    {
      "cell_type": "code",
      "source": [
        "def r2Score(actual, predicted):\n",
        "  return 1 - sum(np.square(actual - predicted))/sum(np.square(actual - np.mean(actual)))"
      ],
      "metadata": {
        "id": "eqNGTlMMloNb"
      },
      "execution_count": 18,
      "outputs": []
    },
    {
      "cell_type": "code",
      "source": [
        "MAE = meanAbsoluteError(Y_test, y_pred)\n",
        "MSE = meanSquaredError(Y_test, y_pred)\n",
        "RMSE = rootMeanSquaredError(Y_test, y_pred)\n",
        "R2S = r2Score(Y_test, y_pred)\n",
        "print(\"Mean Absolute Error:\", MAE)\n",
        "print(\"Mean Squared Error:\", MSE)\n",
        "print(\"Root Mean Squared Error:\", RMSE)\n",
        "print(\"R2 Score:\", R2S)"
      ],
      "metadata": {
        "colab": {
          "base_uri": "https://localhost:8080/"
        },
        "id": "Uby6vw1MghNE",
        "outputId": "34fbe226-8473-49b2-9688-3261f4561b84"
      },
      "execution_count": 19,
      "outputs": [
        {
          "output_type": "stream",
          "name": "stdout",
          "text": [
            "Mean Absolute Error: [0.00703598]\n",
            "Mean Squared Error: [6.13707907e-05]\n",
            "Root Mean Squared Error: 0.007833951155537535\n",
            "R2 Score: [0.99673894]\n"
          ]
        }
      ]
    }
  ]
}